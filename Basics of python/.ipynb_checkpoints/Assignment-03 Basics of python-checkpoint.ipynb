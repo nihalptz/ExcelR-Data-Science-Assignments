{
 "cells": [
  {
   "cell_type": "markdown",
   "id": "bd210ece-352a-479b-9ee6-46e1094c67cc",
   "metadata": {},
   "source": [
    "Exercise 1: Prime Numbers"
   ]
  },
  {
   "cell_type": "code",
   "execution_count": 1,
   "id": "5d77ba0d-2c32-477d-87b8-26d71e8a96ae",
   "metadata": {},
   "outputs": [
    {
     "name": "stdin",
     "output_type": "stream",
     "text": [
      "Enter the number: 11\n"
     ]
    },
    {
     "name": "stdout",
     "output_type": "stream",
     "text": [
      "11 It is a prime number\n"
     ]
    }
   ],
   "source": [
    "num=int(input(\"Enter the number:\"))\n",
    "if num<=1:\n",
    "    print(\"It is not a prime number\")\n",
    "elif num>1:\n",
    "    for i in range(2,num):\n",
    "        if(num % i ==0):\n",
    "            print(num,\"It is not a prime number\")\n",
    "            break\n",
    "    else:\n",
    "       print(num,\"It is a prime number\")\n",
    "else:\n",
    "    print(num,\"It is not a prime number\")\n",
    "        "
   ]
  },
  {
   "cell_type": "markdown",
   "id": "e0e1d831-0bdb-43bd-ae14-1753047819de",
   "metadata": {},
   "source": [
    "Exercise 2: Product of Random Numbers"
   ]
  },
  {
   "cell_type": "code",
   "execution_count": 2,
   "id": "bed1ac51-65e6-43cc-b253-664c6ad9ab84",
   "metadata": {},
   "outputs": [
    {
     "name": "stdin",
     "output_type": "stream",
     "text": [
      "What is the product of 3 and 6?  11\n"
     ]
    },
    {
     "name": "stdout",
     "output_type": "stream",
     "text": [
      "Sorry, the correct answer is 18.\n"
     ]
    }
   ],
   "source": [
    "import random\n",
    "\n",
    "def generate_numbers():\n",
    "    num1 = random.randint(1, 10)\n",
    "    num2 = random.randint(1, 10)\n",
    "    return num1, num2\n",
    "\n",
    "def main():\n",
    "    num1, num2 = generate_numbers()\n",
    "    product = num1 * num2\n",
    "\n",
    "    user_answer = int(input(f\"What is the product of {num1} and {num2}? \"))\n",
    "\n",
    "    if user_answer == product:\n",
    "        print(\"Correct! Well done!\")\n",
    "    else:\n",
    "        print(f\"Sorry, the correct answer is {product}.\")\n",
    "\n",
    "if __name__ == \"__main__\":\n",
    "    main()\n"
   ]
  },
  {
   "cell_type": "markdown",
   "id": "af72d964-98b1-4fff-90eb-05714263c961",
   "metadata": {},
   "source": [
    "Exercise 3: Squares of Even/Odd Numbers"
   ]
  },
  {
   "cell_type": "code",
   "execution_count": 3,
   "id": "2217429c-ec6e-45d9-bea6-6b46ecaa2d87",
   "metadata": {},
   "outputs": [
    {
     "name": "stdout",
     "output_type": "stream",
     "text": [
      "Squares of even numbers within the range of 100 to 200:\n",
      "The square of 100 is 10000\n",
      "The square of 102 is 10404\n",
      "The square of 104 is 10816\n",
      "The square of 106 is 11236\n",
      "The square of 108 is 11664\n",
      "The square of 110 is 12100\n",
      "The square of 112 is 12544\n",
      "The square of 114 is 12996\n",
      "The square of 116 is 13456\n",
      "The square of 118 is 13924\n",
      "The square of 120 is 14400\n",
      "The square of 122 is 14884\n",
      "The square of 124 is 15376\n",
      "The square of 126 is 15876\n",
      "The square of 128 is 16384\n",
      "The square of 130 is 16900\n",
      "The square of 132 is 17424\n",
      "The square of 134 is 17956\n",
      "The square of 136 is 18496\n",
      "The square of 138 is 19044\n",
      "The square of 140 is 19600\n",
      "The square of 142 is 20164\n",
      "The square of 144 is 20736\n",
      "The square of 146 is 21316\n",
      "The square of 148 is 21904\n",
      "The square of 150 is 22500\n",
      "The square of 152 is 23104\n",
      "The square of 154 is 23716\n",
      "The square of 156 is 24336\n",
      "The square of 158 is 24964\n",
      "The square of 160 is 25600\n",
      "The square of 162 is 26244\n",
      "The square of 164 is 26896\n",
      "The square of 166 is 27556\n",
      "The square of 168 is 28224\n",
      "The square of 170 is 28900\n",
      "The square of 172 is 29584\n",
      "The square of 174 is 30276\n",
      "The square of 176 is 30976\n",
      "The square of 178 is 31684\n",
      "The square of 180 is 32400\n",
      "The square of 182 is 33124\n",
      "The square of 184 is 33856\n",
      "The square of 186 is 34596\n",
      "The square of 188 is 35344\n",
      "The square of 190 is 36100\n",
      "The square of 192 is 36864\n",
      "The square of 194 is 37636\n",
      "The square of 196 is 38416\n",
      "The square of 198 is 39204\n",
      "The square of 200 is 40000\n"
     ]
    }
   ],
   "source": [
    "print(\"Squares of even numbers within the range of 100 to 200:\")\n",
    "for num in range(100, 200+ 1):\n",
    "    if num % 2 == 0:  # Checking if the number is even\n",
    "        print(f\"The square of {num} is {num ** 2}\")\n"
   ]
  },
  {
   "cell_type": "markdown",
   "id": "a0fd439c-69d1-4a74-a6ba-fda3c93fe16c",
   "metadata": {},
   "source": [
    "Exercise 4: Word counter"
   ]
  },
  {
   "cell_type": "code",
   "execution_count": 4,
   "id": "892430d9-fe30-4afc-b305-7a596f65b892",
   "metadata": {},
   "outputs": [
    {
     "name": "stdout",
     "output_type": "stream",
     "text": [
      "'this': 2\n",
      "'is': 1\n",
      "'a': 1\n",
      "'sample': 1\n",
      "'text': 2\n",
      "'will': 1\n",
      "'be': 1\n",
      "'used': 1\n",
      "'to': 1\n",
      "'demonstrate': 1\n",
      "'the': 1\n",
      "'word': 1\n",
      "'counter': 1\n"
     ]
    }
   ],
   "source": [
    "def word_counter(text):\n",
    "    # Split the text into words\n",
    "    words = text.split()\n",
    "\n",
    "    # Create a dictionary to store word counts\n",
    "    word_counts = {}\n",
    "\n",
    "    # Count the occurrences of each word\n",
    "    for word in words:\n",
    "        # Remove punctuation from the word (if any) to ensure accurate counting\n",
    "        word = word.strip('.,!?:;\"\\'')\n",
    "        # Convert the word to lowercase for case-insensitive counting\n",
    "        word = word.lower()\n",
    "        # Increment the count for the word in the dictionary\n",
    "        word_counts[word] = word_counts.get(word, 0) + 1\n",
    "\n",
    "    return word_counts\n",
    "\n",
    "input_text = \"This is a sample text. This text will be used to demonstrate the word counter.\"\n",
    "counts = word_counter(input_text)\n",
    "\n",
    "# Print the word counts\n",
    "for word, count in counts.items():\n",
    "    print(f\"'{word}': {count}\")\n"
   ]
  },
  {
   "cell_type": "markdown",
   "id": "f87e6e6a-4f9e-4596-9fe6-250f5d461026",
   "metadata": {},
   "source": [
    "Exercise 5: Check for Palindrome"
   ]
  },
  {
   "cell_type": "code",
   "execution_count": 5,
   "id": "be26765d-9468-4e33-a7a2-6e87f58372dc",
   "metadata": {},
   "outputs": [
    {
     "name": "stdin",
     "output_type": "stream",
     "text": [
      "Enter a letter: 11\n"
     ]
    },
    {
     "name": "stdout",
     "output_type": "stream",
     "text": [
      "True,the letter is a palindrome\n"
     ]
    }
   ],
   "source": [
    "string=input((\"Enter a letter:\"))  \n",
    "if(string==string[::-1]):  \n",
    "      print(\"True,the letter is a palindrome\")  \n",
    "else:  \n",
    "      print(\"False,The letter is not a palindrome\") "
   ]
  },
  {
   "cell_type": "code",
   "execution_count": null,
   "id": "bb265b36-238f-44b0-9343-2fe2854dd8ea",
   "metadata": {},
   "outputs": [],
   "source": []
  }
 ],
 "metadata": {
  "kernelspec": {
   "display_name": "Python 3 (ipykernel)",
   "language": "python",
   "name": "python3"
  },
  "language_info": {
   "codemirror_mode": {
    "name": "ipython",
    "version": 3
   },
   "file_extension": ".py",
   "mimetype": "text/x-python",
   "name": "python",
   "nbconvert_exporter": "python",
   "pygments_lexer": "ipython3",
   "version": "3.11.5"
  }
 },
 "nbformat": 4,
 "nbformat_minor": 5
}
