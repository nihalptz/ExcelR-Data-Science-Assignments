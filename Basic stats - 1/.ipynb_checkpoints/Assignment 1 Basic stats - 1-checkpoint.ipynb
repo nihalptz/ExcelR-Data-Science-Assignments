{
 "cells": [
  {
   "cell_type": "code",
   "execution_count": 1,
   "id": "20a14570",
   "metadata": {},
   "outputs": [],
   "source": [
    "import pandas as pd\n",
    "import matplotlib.pyplot as plt\n",
    "import seaborn as sns"
   ]
  },
  {
   "cell_type": "code",
   "execution_count": 2,
   "id": "a9737bbf",
   "metadata": {},
   "outputs": [
    {
     "data": {
      "text/html": [
       "<div>\n",
       "<style scoped>\n",
       "    .dataframe tbody tr th:only-of-type {\n",
       "        vertical-align: middle;\n",
       "    }\n",
       "\n",
       "    .dataframe tbody tr th {\n",
       "        vertical-align: top;\n",
       "    }\n",
       "\n",
       "    .dataframe thead th {\n",
       "        text-align: right;\n",
       "    }\n",
       "</style>\n",
       "<table border=\"1\" class=\"dataframe\">\n",
       "  <thead>\n",
       "    <tr style=\"text-align: right;\">\n",
       "      <th></th>\n",
       "      <th>Date</th>\n",
       "      <th>Day</th>\n",
       "      <th>SKU</th>\n",
       "      <th>City</th>\n",
       "      <th>Volume</th>\n",
       "      <th>BU</th>\n",
       "      <th>Brand</th>\n",
       "      <th>Model</th>\n",
       "      <th>Avg Price</th>\n",
       "      <th>Total Sales Value</th>\n",
       "      <th>Discount Rate (%)</th>\n",
       "      <th>Discount Amount</th>\n",
       "      <th>Net Sales Value</th>\n",
       "    </tr>\n",
       "  </thead>\n",
       "  <tbody>\n",
       "    <tr>\n",
       "      <th>0</th>\n",
       "      <td>01-04-2021</td>\n",
       "      <td>Thursday</td>\n",
       "      <td>M01</td>\n",
       "      <td>C</td>\n",
       "      <td>15</td>\n",
       "      <td>Mobiles</td>\n",
       "      <td>RealU</td>\n",
       "      <td>RU-10</td>\n",
       "      <td>12100</td>\n",
       "      <td>181500</td>\n",
       "      <td>11.654820</td>\n",
       "      <td>21153.498820</td>\n",
       "      <td>160346.501180</td>\n",
       "    </tr>\n",
       "    <tr>\n",
       "      <th>1</th>\n",
       "      <td>01-04-2021</td>\n",
       "      <td>Thursday</td>\n",
       "      <td>M02</td>\n",
       "      <td>C</td>\n",
       "      <td>10</td>\n",
       "      <td>Mobiles</td>\n",
       "      <td>RealU</td>\n",
       "      <td>RU-9 Plus</td>\n",
       "      <td>10100</td>\n",
       "      <td>101000</td>\n",
       "      <td>11.560498</td>\n",
       "      <td>11676.102961</td>\n",
       "      <td>89323.897039</td>\n",
       "    </tr>\n",
       "    <tr>\n",
       "      <th>2</th>\n",
       "      <td>01-04-2021</td>\n",
       "      <td>Thursday</td>\n",
       "      <td>M03</td>\n",
       "      <td>C</td>\n",
       "      <td>7</td>\n",
       "      <td>Mobiles</td>\n",
       "      <td>YouM</td>\n",
       "      <td>YM-99</td>\n",
       "      <td>16100</td>\n",
       "      <td>112700</td>\n",
       "      <td>9.456886</td>\n",
       "      <td>10657.910157</td>\n",
       "      <td>102042.089843</td>\n",
       "    </tr>\n",
       "    <tr>\n",
       "      <th>3</th>\n",
       "      <td>01-04-2021</td>\n",
       "      <td>Thursday</td>\n",
       "      <td>M04</td>\n",
       "      <td>C</td>\n",
       "      <td>6</td>\n",
       "      <td>Mobiles</td>\n",
       "      <td>YouM</td>\n",
       "      <td>YM-99 Plus</td>\n",
       "      <td>20100</td>\n",
       "      <td>120600</td>\n",
       "      <td>6.935385</td>\n",
       "      <td>8364.074702</td>\n",
       "      <td>112235.925298</td>\n",
       "    </tr>\n",
       "    <tr>\n",
       "      <th>4</th>\n",
       "      <td>01-04-2021</td>\n",
       "      <td>Thursday</td>\n",
       "      <td>M05</td>\n",
       "      <td>C</td>\n",
       "      <td>3</td>\n",
       "      <td>Mobiles</td>\n",
       "      <td>YouM</td>\n",
       "      <td>YM-98</td>\n",
       "      <td>8100</td>\n",
       "      <td>24300</td>\n",
       "      <td>17.995663</td>\n",
       "      <td>4372.946230</td>\n",
       "      <td>19927.053770</td>\n",
       "    </tr>\n",
       "  </tbody>\n",
       "</table>\n",
       "</div>"
      ],
      "text/plain": [
       "         Date       Day  SKU City  Volume       BU  Brand       Model  \\\n",
       "0  01-04-2021  Thursday  M01    C      15  Mobiles  RealU       RU-10   \n",
       "1  01-04-2021  Thursday  M02    C      10  Mobiles  RealU   RU-9 Plus   \n",
       "2  01-04-2021  Thursday  M03    C       7  Mobiles   YouM       YM-99   \n",
       "3  01-04-2021  Thursday  M04    C       6  Mobiles   YouM  YM-99 Plus   \n",
       "4  01-04-2021  Thursday  M05    C       3  Mobiles   YouM      YM-98    \n",
       "\n",
       "   Avg Price  Total Sales Value  Discount Rate (%)  Discount Amount  \\\n",
       "0      12100             181500          11.654820     21153.498820   \n",
       "1      10100             101000          11.560498     11676.102961   \n",
       "2      16100             112700           9.456886     10657.910157   \n",
       "3      20100             120600           6.935385      8364.074702   \n",
       "4       8100              24300          17.995663      4372.946230   \n",
       "\n",
       "   Net Sales Value  \n",
       "0    160346.501180  \n",
       "1     89323.897039  \n",
       "2    102042.089843  \n",
       "3    112235.925298  \n",
       "4     19927.053770  "
      ]
     },
     "execution_count": 2,
     "metadata": {},
     "output_type": "execute_result"
    }
   ],
   "source": [
    "df = pd.read_csv(\"sales_data_with_discounts.csv\")\n",
    "df.head()"
   ]
  },
  {
   "cell_type": "code",
   "execution_count": 3,
   "id": "326567a0",
   "metadata": {},
   "outputs": [
    {
     "data": {
      "text/plain": [
       "(450, 13)"
      ]
     },
     "execution_count": 3,
     "metadata": {},
     "output_type": "execute_result"
    }
   ],
   "source": [
    "df.shape"
   ]
  },
  {
   "cell_type": "code",
   "execution_count": 4,
   "id": "431356df",
   "metadata": {
    "scrolled": true
   },
   "outputs": [
    {
     "data": {
      "text/plain": [
       "Index(['Date', 'Day', 'SKU', 'City', 'Volume', 'BU', 'Brand', 'Model',\n",
       "       'Avg Price', 'Total Sales Value', 'Discount Rate (%)',\n",
       "       'Discount Amount', 'Net Sales Value'],\n",
       "      dtype='object')"
      ]
     },
     "execution_count": 4,
     "metadata": {},
     "output_type": "execute_result"
    }
   ],
   "source": [
    "df.columns"
   ]
  },
  {
   "cell_type": "code",
   "execution_count": 5,
   "id": "cdad3ba6",
   "metadata": {},
   "outputs": [
    {
     "name": "stdout",
     "output_type": "stream",
     "text": [
      "<class 'pandas.core.frame.DataFrame'>\n",
      "RangeIndex: 450 entries, 0 to 449\n",
      "Data columns (total 13 columns):\n",
      " #   Column             Non-Null Count  Dtype  \n",
      "---  ------             --------------  -----  \n",
      " 0   Date               450 non-null    object \n",
      " 1   Day                450 non-null    object \n",
      " 2   SKU                450 non-null    object \n",
      " 3   City               450 non-null    object \n",
      " 4   Volume             450 non-null    int64  \n",
      " 5   BU                 450 non-null    object \n",
      " 6   Brand              450 non-null    object \n",
      " 7   Model              450 non-null    object \n",
      " 8   Avg Price          450 non-null    int64  \n",
      " 9   Total Sales Value  450 non-null    int64  \n",
      " 10  Discount Rate (%)  450 non-null    float64\n",
      " 11  Discount Amount    450 non-null    float64\n",
      " 12  Net Sales Value    450 non-null    float64\n",
      "dtypes: float64(3), int64(3), object(7)\n",
      "memory usage: 45.8+ KB\n"
     ]
    }
   ],
   "source": [
    "df.info()"
   ]
  },
  {
   "cell_type": "markdown",
   "id": "9e116f03",
   "metadata": {},
   "source": [
    "# Descriptive Analytics for Numerical Columns"
   ]
  },
  {
   "cell_type": "code",
   "execution_count": 6,
   "id": "7526ba73",
   "metadata": {
    "scrolled": true
   },
   "outputs": [
    {
     "name": "stdout",
     "output_type": "stream",
     "text": [
      "Volume mean 5.066666666666666 \n",
      "Volume mode 0    3\n",
      "Name: Volume, dtype: int64 \n",
      "volume median 4.0 \n",
      "volume std deviation 4.231602391213923\n"
     ]
    }
   ],
   "source": [
    "# Descriptive analysis for Volume\n",
    "\n",
    "\n",
    "import statistics\n",
    "\n",
    "volume_mean = df[\"Volume\"].mean()\n",
    "volume_mode = df[\"Volume\"].mode()\n",
    "volume_median = df[\"Volume\"].median()\n",
    "volume_std = statistics.stdev(df[\"Volume\"])\n",
    "print(\"Volume mean\",volume_mean ,\"\\nVolume mode\" , volume_mode,\"\\nvolume median\",volume_median\n",
    "     ,\"\\nvolume std deviation\", volume_std)"
   ]
  },
  {
   "cell_type": "code",
   "execution_count": 7,
   "id": "ce1cf8d9",
   "metadata": {},
   "outputs": [
    {
     "name": "stdout",
     "output_type": "stream",
     "text": [
      "Avg Price mean 10453.433333333332 \n",
      "Avg Price mode 0     400\n",
      "1     450\n",
      "2     500\n",
      "3    1300\n",
      "4    8100\n",
      "Name: Avg Price, dtype: int64 \n",
      "Avg Price median 1450.0 \n",
      "Avg Price std deviation 18079.90483993647\n"
     ]
    }
   ],
   "source": [
    "# Descriptive analysis for Avg Price\n",
    "\n",
    "avg_price_mean = df[\"Avg Price\"].mean()\n",
    "avg_price_mode = df[\"Avg Price\"].mode()\n",
    "avg_price_median = df[\"Avg Price\"].median()\n",
    "avg_price_std = statistics.stdev(df[\"Avg Price\"])\n",
    "print(\"Avg Price mean\",avg_price_mean ,\"\\nAvg Price mode\" , avg_price_mode ,\"\\nAvg Price median\",avg_price_median\n",
    "     ,\"\\nAvg Price std deviation\", avg_price_std)"
   ]
  },
  {
   "cell_type": "code",
   "execution_count": 8,
   "id": "5952dc30",
   "metadata": {},
   "outputs": [
    {
     "name": "stdout",
     "output_type": "stream",
     "text": [
      "Total Sales Value mean 33812.83555555555 \n",
      "Total Sales Value mode 0    24300\n",
      "Name: Total Sales Value, dtype: int64 \n",
      "Total Sales Value median 5700.0 \n",
      "Total Sales Valuestd deviation 50535.07417255326\n"
     ]
    }
   ],
   "source": [
    "# Descriptive analysis for Total Sales Value\n",
    "\n",
    "total_sales_mean = df[\"Total Sales Value\"].mean()\n",
    "total_sales_mode = df[\"Total Sales Value\"].mode()\n",
    "total_sales_median = df[\"Total Sales Value\"].median()\n",
    "total_sales_std = statistics.stdev(df[\"Total Sales Value\"])\n",
    "print(\"Total Sales Value mean\",total_sales_mean ,\"\\nTotal Sales Value mode\" , total_sales_mode ,\"\\nTotal Sales Value median\",total_sales_median\n",
    "     ,\"\\nTotal Sales Valuestd deviation\", total_sales_std)"
   ]
  },
  {
   "cell_type": "code",
   "execution_count": 9,
   "id": "76d8d454",
   "metadata": {},
   "outputs": [
    {
     "name": "stdout",
     "output_type": "stream",
     "text": [
      "Discount Rate (%) mean 15.155241895330914 \n",
      "Discount Rate (%) median 16.57776564929597 \n",
      "Discount Rate (%) std deviation 4.220602153325509\n"
     ]
    }
   ],
   "source": [
    "# Descriptive analysis for Discount Rate (%)\n",
    "\n",
    "dis_mean = df[\"Discount Rate (%)\"].mean()\n",
    "# dis_mode = df[\"Discount Rate (%)\"].mode()\n",
    "dis_median = df[\"Discount Rate (%)\"].median()\n",
    "dis_std = statistics.stdev(df[\"Discount Rate (%)\"])\n",
    "print(\"Discount Rate (%) mean\",dis_mean ,\"\\nDiscount Rate (%) median\",dis_median\n",
    "     ,\"\\nDiscount Rate (%) std deviation\", dis_std)"
   ]
  },
  {
   "cell_type": "code",
   "execution_count": 10,
   "id": "42bf2d8e",
   "metadata": {},
   "outputs": [
    {
     "name": "stdout",
     "output_type": "stream",
     "text": [
      "Discount Amount mean 33812.83555555555 \n",
      "Discount Amount median 5700.0 \n",
      "Discount Amount std deviation 50535.07417255326\n"
     ]
    }
   ],
   "source": [
    "# Descriptive analysis for Discount Amount\n",
    "\n",
    "dis_amt_mean = df[\"Discount Amount\"].mean()\n",
    "# dis_amt_mode = df[\"Discount Amount\"].mode()\n",
    "dis_amt_median = df[\"Discount Amount\"].median()\n",
    "dis_amt_std = statistics.stdev(df[\"Discount Amount\"])\n",
    "print(\"Discount Amount mean\",total_sales_mean ,\"\\nDiscount Amount median\",total_sales_median\n",
    "     ,\"\\nDiscount Amount std deviation\", total_sales_std)"
   ]
  },
  {
   "cell_type": "code",
   "execution_count": 11,
   "id": "9b21f683",
   "metadata": {},
   "outputs": [
    {
     "name": "stdout",
     "output_type": "stream",
     "text": [
      "Net sales mean 30466.336131270138 \n",
      "Net sales median 4677.788059301853 \n",
      "Net sales std deviation 46358.65662406695\n"
     ]
    }
   ],
   "source": [
    "# # Descriptive analysis for Net Sales Value\n",
    "\n",
    "net_sale_mean = df[\"Net Sales Value\"].mean()\n",
    "# net_sale_mode = df[\"Net Sales Value\"].mode()\n",
    "net_sale_median = df[\"Net Sales Value\"].median()\n",
    "net_sale_std = statistics.stdev(df[\"Net Sales Value\"])\n",
    "print(\"Net sales mean\",net_sale_mean ,\"\\nNet sales median\",net_sale_median\n",
    "     ,\"\\nNet sales std deviation\", net_sale_std)"
   ]
  },
  {
   "cell_type": "markdown",
   "id": "50bcfa42",
   "metadata": {},
   "source": [
    "**The provided dataset has 6 numeric values which can be identified using df.info() of which \n",
    "* Volume , Avg Price,Total Sales Value are int type\n",
    "* Discount Rate (%),Discount Amount,Net Sales Value are float type\n",
    "* The mean , median , mode for each numeric column is calculated above"
   ]
  },
  {
   "cell_type": "markdown",
   "id": "734d81e7",
   "metadata": {},
   "source": [
    "# Data Visualization"
   ]
  },
  {
   "cell_type": "code",
   "execution_count": 12,
   "id": "275aa442",
   "metadata": {},
   "outputs": [
    {
     "data": {
      "text/plain": [
       "(array([213., 137.,  49.,  26.,  15.,   2.,   0.,   4.,   1.,   3.]),\n",
       " array([ 1.,  4.,  7., 10., 13., 16., 19., 22., 25., 28., 31.]),\n",
       " <BarContainer object of 10 artists>)"
      ]
     },
     "execution_count": 12,
     "metadata": {},
     "output_type": "execute_result"
    },
    {
     "data": {
      "image/png": "[encoded data removed]",
      "text/plain": [
       "<Figure size 640x480 with 1 Axes>"
      ]
     },
     "metadata": {},
     "output_type": "display_data"
    }
   ],
   "source": [
    "# Histogram \n",
    "\n",
    "plt.hist(df[\"Volume\"], bins=10)\n"
   ]
  },
  {
   "cell_type": "code",
   "execution_count": 13,
   "id": "169ddccf",
   "metadata": {},
   "outputs": [
    {
     "data": {
      "text/plain": [
       "(array([300.,  60.,  15.,  15.,   0.,   0.,   0.,   0.,  30.,  30.]),\n",
       " array([  290.,  6271., 12252., 18233., 24214., 30195., 36176., 42157.,\n",
       "        48138., 54119., 60100.]),\n",
       " <BarContainer object of 10 artists>)"
      ]
     },
     "execution_count": 13,
     "metadata": {},
     "output_type": "execute_result"
    },
    {
     "data": {
      "image/png": "[encoded data removed]",
      "text/plain": [
       "<Figure size 640x480 with 1 Axes>"
      ]
     },
     "metadata": {},
     "output_type": "display_data"
    }
   ],
   "source": [
    "plt.hist(df[\"Avg Price\"], bins=10)\n"
   ]
  },
  {
   "cell_type": "code",
   "execution_count": 14,
   "id": "bdee35e4",
   "metadata": {},
   "outputs": [
    {
     "data": {
      "text/plain": [
       "(array([305.,  24.,  15.,  18.,  12.,  27.,  15.,  15.,  11.,   8.]),\n",
       " array([   400.,  20000.,  39600.,  59200.,  78800.,  98400., 118000.,\n",
       "        137600., 157200., 176800., 196400.]),\n",
       " <BarContainer object of 10 artists>)"
      ]
     },
     "execution_count": 14,
     "metadata": {},
     "output_type": "execute_result"
    },
    {
     "data": {
      "image/png": "[encoded data removed]",
      "text/plain": [
       "<Figure size 640x480 with 1 Axes>"
      ]
     },
     "metadata": {},
     "output_type": "display_data"
    }
   ],
   "source": [
    "plt.hist(df[\"Total Sales Value\"], bins=10)\n"
   ]
  },
  {
   "cell_type": "code",
   "execution_count": 15,
   "id": "27e46e4e",
   "metadata": {},
   "outputs": [
    {
     "data": {
      "text/plain": [
       "(array([ 27.,  24.,  29.,  14.,  14.,   6.,  38.,  96., 115.,  87.]),\n",
       " array([ 5.00782219,  6.50628067,  8.00473916,  9.50319765, 11.00165613,\n",
       "        12.50011462, 13.9985731 , 15.49703159, 16.99549007, 18.49394856,\n",
       "        19.99240704]),\n",
       " <BarContainer object of 10 artists>)"
      ]
     },
     "execution_count": 15,
     "metadata": {},
     "output_type": "execute_result"
    },
    {
     "data": {
      "image/png": "[encoded data removed]",
      "text/plain": [
       "<Figure size 640x480 with 1 Axes>"
      ]
     },
     "metadata": {},
     "output_type": "display_data"
    }
   ],
   "source": [
    "plt.hist(df[\"Discount Rate (%)\"], bins=10)\n"
   ]
  },
  {
   "cell_type": "code",
   "execution_count": 16,
   "id": "26551c7f",
   "metadata": {},
   "outputs": [
    {
     "data": {
      "text/plain": [
       "(array([299.,  37.,  42.,  29.,  22.,   8.,   9.,   0.,   2.,   2.]),\n",
       " array([   69.17794229,  2636.06236744,  5202.94679258,  7769.83121773,\n",
       "        10336.71564288, 12903.60006802, 15470.48449317, 18037.36891832,\n",
       "        20604.25334346, 23171.13776861, 25738.02219376]),\n",
       " <BarContainer object of 10 artists>)"
      ]
     },
     "execution_count": 16,
     "metadata": {},
     "output_type": "execute_result"
    },
    {
     "data": {
      "image/png": "[encoded data removed]",
      "text/plain": [
       "<Figure size 640x480 with 1 Axes>"
      ]
     },
     "metadata": {},
     "output_type": "display_data"
    }
   ],
   "source": [
    "plt.hist(df[\"Discount Amount\"], bins=10)\n"
   ]
  },
  {
   "cell_type": "code",
   "execution_count": 17,
   "id": "66536c09",
   "metadata": {},
   "outputs": [
    {
     "data": {
      "text/plain": [
       "(array([306.,  26.,  17.,  14.,   8.,  30.,  16.,  15.,  12.,   6.]),\n",
       " array([   326.97480055,  18245.0252254 ,  36163.07565025,  54081.1260751 ,\n",
       "         71999.17649994,  89917.22692479, 107835.27734964, 125753.32777448,\n",
       "        143671.37819933, 161589.42862418, 179507.47904902]),\n",
       " <BarContainer object of 10 artists>)"
      ]
     },
     "execution_count": 17,
     "metadata": {},
     "output_type": "execute_result"
    },
    {
     "data": {
      "image/png": "[encoded data removed]",
      "text/plain": [
       "<Figure size 640x480 with 1 Axes>"
      ]
     },
     "metadata": {},
     "output_type": "display_data"
    }
   ],
   "source": [
    "plt.hist(df[\"Net Sales Value\"], bins=10)\n"
   ]
  },
  {
   "cell_type": "code",
   "execution_count": 18,
   "id": "94ada0b7",
   "metadata": {},
   "outputs": [
    {
     "data": {
      "image/png": "[encoded data removed]",
      "text/plain": [
       "<Figure size 640x480 with 1 Axes>"
      ]
     },
     "metadata": {},
     "output_type": "display_data"
    }
   ],
   "source": [
    "# box plot\n",
    "\n",
    "plt.boxplot(df[\"Volume\"])\n",
    "plt.xlabel('Volume')\n",
    "plt.ylabel('Frequency')\n",
    "plt.title('Boxplot of Data')\n",
    "plt.show()"
   ]
  },
  {
   "cell_type": "code",
   "execution_count": 19,
   "id": "745a2150",
   "metadata": {},
   "outputs": [
    {
     "data": {
      "image/png": "[encoded data removed]",
      "text/plain": [
       "<Figure size 640x480 with 1 Axes>"
      ]
     },
     "metadata": {},
     "output_type": "display_data"
    }
   ],
   "source": [
    "plt.boxplot(df[\"Avg Price\"])\n",
    "plt.xlabel('average price')\n",
    "plt.ylabel('Frequency')\n",
    "plt.title('Boxplot of Data')\n",
    "plt.show()"
   ]
  },
  {
   "cell_type": "code",
   "execution_count": 20,
   "id": "3120a146",
   "metadata": {},
   "outputs": [
    {
     "data": {
      "image/png": "[encoded data removed]",
      "text/plain": [
       "<Figure size 640x480 with 1 Axes>"
      ]
     },
     "metadata": {},
     "output_type": "display_data"
    }
   ],
   "source": [
    "plt.boxplot(df[\"Total Sales Value\"])\n",
    "plt.xlabel('Total Sales Value')\n",
    "plt.ylabel('Frequency')\n",
    "plt.title('Boxplot of Data')\n",
    "plt.show()"
   ]
  },
  {
   "cell_type": "code",
   "execution_count": 21,
   "id": "ffc7e0b4",
   "metadata": {},
   "outputs": [
    {
     "data": {
      "image/png": "[encoded data removed]",
      "text/plain": [
       "<Figure size 640x480 with 1 Axes>"
      ]
     },
     "metadata": {},
     "output_type": "display_data"
    }
   ],
   "source": [
    "plt.boxplot(df[\"Discount Rate (%)\"])\n",
    "plt.xlabel('Discount Rate')\n",
    "plt.ylabel('Frequency')\n",
    "plt.title('Boxplot of Data')\n",
    "plt.show()"
   ]
  },
  {
   "cell_type": "code",
   "execution_count": 22,
   "id": "45122c0c",
   "metadata": {},
   "outputs": [
    {
     "data": {
      "image/png": "[encoded data removed]",
      "text/plain": [
       "<Figure size 640x480 with 1 Axes>"
      ]
     },
     "metadata": {},
     "output_type": "display_data"
    }
   ],
   "source": [
    "plt.boxplot(df[\"Discount Amount\"])\n",
    "plt.xlabel('Discount Amount')\n",
    "plt.ylabel('Frequency')\n",
    "plt.title('Boxplot of Data')\n",
    "plt.show()"
   ]
  },
  {
   "cell_type": "code",
   "execution_count": 23,
   "id": "3ce1d482",
   "metadata": {},
   "outputs": [
    {
     "data": {
      "image/png": "[encoded data removed]",
      "text/plain": [
       "<Figure size 640x480 with 1 Axes>"
      ]
     },
     "metadata": {},
     "output_type": "display_data"
    }
   ],
   "source": [
    "plt.boxplot(df[\"Net Sales Value\"])\n",
    "plt.xlabel('Net Sales Value')\n",
    "plt.ylabel('Frequency')\n",
    "plt.title('Boxplot of Data')\n",
    "plt.show()"
   ]
  },
  {
   "cell_type": "code",
   "execution_count": 24,
   "id": "ee632b17",
   "metadata": {},
   "outputs": [
    {
     "name": "stdout",
     "output_type": "stream",
     "text": [
      "<class 'pandas.core.frame.DataFrame'>\n",
      "RangeIndex: 450 entries, 0 to 449\n",
      "Data columns (total 13 columns):\n",
      " #   Column             Non-Null Count  Dtype  \n",
      "---  ------             --------------  -----  \n",
      " 0   Date               450 non-null    object \n",
      " 1   Day                450 non-null    object \n",
      " 2   SKU                450 non-null    object \n",
      " 3   City               450 non-null    object \n",
      " 4   Volume             450 non-null    int64  \n",
      " 5   BU                 450 non-null    object \n",
      " 6   Brand              450 non-null    object \n",
      " 7   Model              450 non-null    object \n",
      " 8   Avg Price          450 non-null    int64  \n",
      " 9   Total Sales Value  450 non-null    int64  \n",
      " 10  Discount Rate (%)  450 non-null    float64\n",
      " 11  Discount Amount    450 non-null    float64\n",
      " 12  Net Sales Value    450 non-null    float64\n",
      "dtypes: float64(3), int64(3), object(7)\n",
      "memory usage: 45.8+ KB\n"
     ]
    },
    {
     "data": {
      "text/html": [
       "<div>\n",
       "<style scoped>\n",
       "    .dataframe tbody tr th:only-of-type {\n",
       "        vertical-align: middle;\n",
       "    }\n",
       "\n",
       "    .dataframe tbody tr th {\n",
       "        vertical-align: top;\n",
       "    }\n",
       "\n",
       "    .dataframe thead th {\n",
       "        text-align: right;\n",
       "    }\n",
       "</style>\n",
       "<table border=\"1\" class=\"dataframe\">\n",
       "  <thead>\n",
       "    <tr style=\"text-align: right;\">\n",
       "      <th></th>\n",
       "      <th>Date</th>\n",
       "      <th>Day</th>\n",
       "      <th>SKU</th>\n",
       "      <th>City</th>\n",
       "      <th>Volume</th>\n",
       "      <th>BU</th>\n",
       "      <th>Brand</th>\n",
       "      <th>Model</th>\n",
       "      <th>Avg Price</th>\n",
       "      <th>Total Sales Value</th>\n",
       "      <th>Discount Rate (%)</th>\n",
       "      <th>Discount Amount</th>\n",
       "      <th>Net Sales Value</th>\n",
       "    </tr>\n",
       "  </thead>\n",
       "  <tbody>\n",
       "    <tr>\n",
       "      <th>0</th>\n",
       "      <td>01-04-2021</td>\n",
       "      <td>Thursday</td>\n",
       "      <td>M01</td>\n",
       "      <td>C</td>\n",
       "      <td>15</td>\n",
       "      <td>Mobiles</td>\n",
       "      <td>RealU</td>\n",
       "      <td>RU-10</td>\n",
       "      <td>12100</td>\n",
       "      <td>181500</td>\n",
       "      <td>11.654820</td>\n",
       "      <td>21153.498820</td>\n",
       "      <td>160346.501180</td>\n",
       "    </tr>\n",
       "    <tr>\n",
       "      <th>1</th>\n",
       "      <td>01-04-2021</td>\n",
       "      <td>Thursday</td>\n",
       "      <td>M02</td>\n",
       "      <td>C</td>\n",
       "      <td>10</td>\n",
       "      <td>Mobiles</td>\n",
       "      <td>RealU</td>\n",
       "      <td>RU-9 Plus</td>\n",
       "      <td>10100</td>\n",
       "      <td>101000</td>\n",
       "      <td>11.560498</td>\n",
       "      <td>11676.102961</td>\n",
       "      <td>89323.897039</td>\n",
       "    </tr>\n",
       "    <tr>\n",
       "      <th>2</th>\n",
       "      <td>01-04-2021</td>\n",
       "      <td>Thursday</td>\n",
       "      <td>M03</td>\n",
       "      <td>C</td>\n",
       "      <td>7</td>\n",
       "      <td>Mobiles</td>\n",
       "      <td>YouM</td>\n",
       "      <td>YM-99</td>\n",
       "      <td>16100</td>\n",
       "      <td>112700</td>\n",
       "      <td>9.456886</td>\n",
       "      <td>10657.910157</td>\n",
       "      <td>102042.089843</td>\n",
       "    </tr>\n",
       "    <tr>\n",
       "      <th>3</th>\n",
       "      <td>01-04-2021</td>\n",
       "      <td>Thursday</td>\n",
       "      <td>M04</td>\n",
       "      <td>C</td>\n",
       "      <td>6</td>\n",
       "      <td>Mobiles</td>\n",
       "      <td>YouM</td>\n",
       "      <td>YM-99 Plus</td>\n",
       "      <td>20100</td>\n",
       "      <td>120600</td>\n",
       "      <td>6.935385</td>\n",
       "      <td>8364.074702</td>\n",
       "      <td>112235.925298</td>\n",
       "    </tr>\n",
       "    <tr>\n",
       "      <th>4</th>\n",
       "      <td>01-04-2021</td>\n",
       "      <td>Thursday</td>\n",
       "      <td>M05</td>\n",
       "      <td>C</td>\n",
       "      <td>3</td>\n",
       "      <td>Mobiles</td>\n",
       "      <td>YouM</td>\n",
       "      <td>YM-98</td>\n",
       "      <td>8100</td>\n",
       "      <td>24300</td>\n",
       "      <td>17.995663</td>\n",
       "      <td>4372.946230</td>\n",
       "      <td>19927.053770</td>\n",
       "    </tr>\n",
       "  </tbody>\n",
       "</table>\n",
       "</div>"
      ],
      "text/plain": [
       "         Date       Day  SKU City  Volume       BU  Brand       Model  \\\n",
       "0  01-04-2021  Thursday  M01    C      15  Mobiles  RealU       RU-10   \n",
       "1  01-04-2021  Thursday  M02    C      10  Mobiles  RealU   RU-9 Plus   \n",
       "2  01-04-2021  Thursday  M03    C       7  Mobiles   YouM       YM-99   \n",
       "3  01-04-2021  Thursday  M04    C       6  Mobiles   YouM  YM-99 Plus   \n",
       "4  01-04-2021  Thursday  M05    C       3  Mobiles   YouM      YM-98    \n",
       "\n",
       "   Avg Price  Total Sales Value  Discount Rate (%)  Discount Amount  \\\n",
       "0      12100             181500          11.654820     21153.498820   \n",
       "1      10100             101000          11.560498     11676.102961   \n",
       "2      16100             112700           9.456886     10657.910157   \n",
       "3      20100             120600           6.935385      8364.074702   \n",
       "4       8100              24300          17.995663      4372.946230   \n",
       "\n",
       "   Net Sales Value  \n",
       "0    160346.501180  \n",
       "1     89323.897039  \n",
       "2    102042.089843  \n",
       "3    112235.925298  \n",
       "4     19927.053770  "
      ]
     },
     "execution_count": 24,
     "metadata": {},
     "output_type": "execute_result"
    }
   ],
   "source": [
    "#Bar chart \n",
    "df.info()\n",
    "df.head()"
   ]
  },
  {
   "cell_type": "code",
   "execution_count": 25,
   "id": "5956a270",
   "metadata": {},
   "outputs": [
    {
     "data": {
      "text/plain": [
       "Text(0, 0.5, 'net sales')"
      ]
     },
     "execution_count": 25,
     "metadata": {},
     "output_type": "execute_result"
    },
    {
     "data": {
      "image/png": "[encoded data removed]",
      "text/plain": [
       "<Figure size 1500x800 with 1 Axes>"
      ]
     },
     "metadata": {},
     "output_type": "display_data"
    }
   ],
   "source": [
    "plt.figure(figsize=(15,8))\n",
    "plt.bar(df[\"Day\"], df[\"Net Sales Value\"])\n",
    "plt.xlabel(\"day\")\n",
    "plt.ylabel(\"net sales\")"
   ]
  },
  {
   "cell_type": "code",
   "execution_count": 26,
   "id": "9780ec82",
   "metadata": {},
   "outputs": [
    {
     "data": {
      "text/plain": [
       "<BarContainer object of 450 artists>"
      ]
     },
     "execution_count": 26,
     "metadata": {},
     "output_type": "execute_result"
    },
    {
     "data": {
      "image/png": "[encoded data removed]",
      "text/plain": [
       "<Figure size 600x800 with 1 Axes>"
      ]
     },
     "metadata": {},
     "output_type": "display_data"
    }
   ],
   "source": [
    "plt.figure(figsize=(6,8))\n",
    "plt.bar(df[\"City\"], df[\"Day\"],width=0.0002)"
   ]
  },
  {
   "cell_type": "code",
   "execution_count": 27,
   "id": "11ddc224",
   "metadata": {
    "scrolled": true
   },
   "outputs": [
    {
     "data": {
      "text/plain": [
       "Text(0, 0.5, 'net sales')"
      ]
     },
     "execution_count": 27,
     "metadata": {},
     "output_type": "execute_result"
    },
    {
     "data": {
      "image/png": "[encoded data removed]",
      "text/plain": [
       "<Figure size 600x600 with 1 Axes>"
      ]
     },
     "metadata": {},
     "output_type": "display_data"
    }
   ],
   "source": [
    "plt.figure(figsize=(6,6))\n",
    "plt.bar(df[\"BU\"], df[\"Net Sales Value\"])\n",
    "plt.xlabel(\"bu\")\n",
    "plt.ylabel(\"net sales\")"
   ]
  },
  {
   "cell_type": "code",
   "execution_count": 28,
   "id": "6c1161ae",
   "metadata": {},
   "outputs": [
    {
     "data": {
      "text/plain": [
       "Text(0, 0.5, 'net sales')"
      ]
     },
     "execution_count": 28,
     "metadata": {},
     "output_type": "execute_result"
    },
    {
     "data": {
      "image/png": "[encoded data removed]",
      "text/plain": [
       "<Figure size 1500x800 with 1 Axes>"
      ]
     },
     "metadata": {},
     "output_type": "display_data"
    }
   ],
   "source": [
    "plt.figure(figsize=(15,8))\n",
    "plt.bar(df[\"Brand\"], df[\"Net Sales Value\"])\n",
    "plt.xlabel(\"brand\")\n",
    "plt.ylabel(\"net sales\")"
   ]
  },
  {
   "cell_type": "code",
   "execution_count": 29,
   "id": "f00d4d0d",
   "metadata": {},
   "outputs": [
    {
     "data": {
      "image/png": "[encoded data removed]",
      "text/plain": [
       "<Figure size 4500x2000 with 1 Axes>"
      ]
     },
     "metadata": {},
     "output_type": "display_data"
    }
   ],
   "source": [
    "plt.figure(figsize=(45,20))\n",
    "plt.bar(df[\"Model\"], df[\"Net Sales Value\"])\n",
    "plt.show()"
   ]
  },
  {
   "cell_type": "markdown",
   "id": "9c3b00da",
   "metadata": {},
   "source": [
    "## Standardization of Numerical Variables"
   ]
  },
  {
   "cell_type": "code",
   "execution_count": 30,
   "id": "c49e591f",
   "metadata": {},
   "outputs": [
    {
     "data": {
      "text/html": [
       "<div>\n",
       "<style scoped>\n",
       "    .dataframe tbody tr th:only-of-type {\n",
       "        vertical-align: middle;\n",
       "    }\n",
       "\n",
       "    .dataframe tbody tr th {\n",
       "        vertical-align: top;\n",
       "    }\n",
       "\n",
       "    .dataframe thead th {\n",
       "        text-align: right;\n",
       "    }\n",
       "</style>\n",
       "<table border=\"1\" class=\"dataframe\">\n",
       "  <thead>\n",
       "    <tr style=\"text-align: right;\">\n",
       "      <th></th>\n",
       "      <th>Date</th>\n",
       "      <th>Day</th>\n",
       "      <th>SKU</th>\n",
       "      <th>City</th>\n",
       "      <th>Volume</th>\n",
       "      <th>BU</th>\n",
       "      <th>Brand</th>\n",
       "      <th>Model</th>\n",
       "      <th>Avg Price</th>\n",
       "      <th>Total Sales Value</th>\n",
       "      <th>Discount Rate (%)</th>\n",
       "      <th>Discount Amount</th>\n",
       "      <th>Net Sales Value</th>\n",
       "    </tr>\n",
       "  </thead>\n",
       "  <tbody>\n",
       "    <tr>\n",
       "      <th>0</th>\n",
       "      <td>01-04-2021</td>\n",
       "      <td>Thursday</td>\n",
       "      <td>M01</td>\n",
       "      <td>C</td>\n",
       "      <td>15</td>\n",
       "      <td>Mobiles</td>\n",
       "      <td>RealU</td>\n",
       "      <td>RU-10</td>\n",
       "      <td>12100</td>\n",
       "      <td>181500</td>\n",
       "      <td>11.654820</td>\n",
       "      <td>21153.498820</td>\n",
       "      <td>160346.501180</td>\n",
       "    </tr>\n",
       "    <tr>\n",
       "      <th>1</th>\n",
       "      <td>01-04-2021</td>\n",
       "      <td>Thursday</td>\n",
       "      <td>M02</td>\n",
       "      <td>C</td>\n",
       "      <td>10</td>\n",
       "      <td>Mobiles</td>\n",
       "      <td>RealU</td>\n",
       "      <td>RU-9 Plus</td>\n",
       "      <td>10100</td>\n",
       "      <td>101000</td>\n",
       "      <td>11.560498</td>\n",
       "      <td>11676.102961</td>\n",
       "      <td>89323.897039</td>\n",
       "    </tr>\n",
       "    <tr>\n",
       "      <th>2</th>\n",
       "      <td>01-04-2021</td>\n",
       "      <td>Thursday</td>\n",
       "      <td>M03</td>\n",
       "      <td>C</td>\n",
       "      <td>7</td>\n",
       "      <td>Mobiles</td>\n",
       "      <td>YouM</td>\n",
       "      <td>YM-99</td>\n",
       "      <td>16100</td>\n",
       "      <td>112700</td>\n",
       "      <td>9.456886</td>\n",
       "      <td>10657.910157</td>\n",
       "      <td>102042.089843</td>\n",
       "    </tr>\n",
       "    <tr>\n",
       "      <th>3</th>\n",
       "      <td>01-04-2021</td>\n",
       "      <td>Thursday</td>\n",
       "      <td>M04</td>\n",
       "      <td>C</td>\n",
       "      <td>6</td>\n",
       "      <td>Mobiles</td>\n",
       "      <td>YouM</td>\n",
       "      <td>YM-99 Plus</td>\n",
       "      <td>20100</td>\n",
       "      <td>120600</td>\n",
       "      <td>6.935385</td>\n",
       "      <td>8364.074702</td>\n",
       "      <td>112235.925298</td>\n",
       "    </tr>\n",
       "    <tr>\n",
       "      <th>4</th>\n",
       "      <td>01-04-2021</td>\n",
       "      <td>Thursday</td>\n",
       "      <td>M05</td>\n",
       "      <td>C</td>\n",
       "      <td>3</td>\n",
       "      <td>Mobiles</td>\n",
       "      <td>YouM</td>\n",
       "      <td>YM-98</td>\n",
       "      <td>8100</td>\n",
       "      <td>24300</td>\n",
       "      <td>17.995663</td>\n",
       "      <td>4372.946230</td>\n",
       "      <td>19927.053770</td>\n",
       "    </tr>\n",
       "  </tbody>\n",
       "</table>\n",
       "</div>"
      ],
      "text/plain": [
       "         Date       Day  SKU City  Volume       BU  Brand       Model  \\\n",
       "0  01-04-2021  Thursday  M01    C      15  Mobiles  RealU       RU-10   \n",
       "1  01-04-2021  Thursday  M02    C      10  Mobiles  RealU   RU-9 Plus   \n",
       "2  01-04-2021  Thursday  M03    C       7  Mobiles   YouM       YM-99   \n",
       "3  01-04-2021  Thursday  M04    C       6  Mobiles   YouM  YM-99 Plus   \n",
       "4  01-04-2021  Thursday  M05    C       3  Mobiles   YouM      YM-98    \n",
       "\n",
       "   Avg Price  Total Sales Value  Discount Rate (%)  Discount Amount  \\\n",
       "0      12100             181500          11.654820     21153.498820   \n",
       "1      10100             101000          11.560498     11676.102961   \n",
       "2      16100             112700           9.456886     10657.910157   \n",
       "3      20100             120600           6.935385      8364.074702   \n",
       "4       8100              24300          17.995663      4372.946230   \n",
       "\n",
       "   Net Sales Value  \n",
       "0    160346.501180  \n",
       "1     89323.897039  \n",
       "2    102042.089843  \n",
       "3    112235.925298  \n",
       "4     19927.053770  "
      ]
     },
     "execution_count": 30,
     "metadata": {},
     "output_type": "execute_result"
    }
   ],
   "source": [
    "df.head(5)"
   ]
  },
  {
   "cell_type": "code",
   "execution_count": 31,
   "id": "ffa1f691",
   "metadata": {},
   "outputs": [],
   "source": [
    "#Z-score normalization, also known as standardization, is a technique used to transform numerical data in a dataset so that it follows a standard normal \n",
    "# distribution with a mean of 0 and a standard deviation of 1"
   ]
  },
  {
   "cell_type": "code",
   "execution_count": 32,
   "id": "da45add1",
   "metadata": {},
   "outputs": [],
   "source": [
    "df2 = df.copy() #using the formula z=x-mu/sigma\n",
    "df2['Volume'] = (df['Volume'] - df['Volume'].mean()) / df['Volume'].std()\n",
    "df2['Avg Price'] = (df['Avg Price'] - df['Avg Price'].mean()) / df['Avg Price'].std()\n",
    "df2['Total Sales Value'] = (df['Total Sales Value'] - df['Total Sales Value'].mean()) / df['Total Sales Value'].std()\n",
    "df2['Discount Rate (%)'] = (df['Discount Rate (%)'] - df['Discount Rate (%)'].mean()) / df['Discount Rate (%)'].std()\n",
    "df2['Discount Amount'] = (df['Discount Amount'] - df['Discount Amount'].mean()) / df['Discount Amount'].std()\n",
    "df2['Net Sales Value'] = (df['Net Sales Value'] - df['Net Sales Value'].mean()) / df['Net Sales Value'].std()\n"
   ]
  },
  {
   "cell_type": "code",
   "execution_count": 33,
   "id": "c06e774a",
   "metadata": {},
   "outputs": [
    {
     "data": {
      "text/html": [
       "<div>\n",
       "<style scoped>\n",
       "    .dataframe tbody tr th:only-of-type {\n",
       "        vertical-align: middle;\n",
       "    }\n",
       "\n",
       "    .dataframe tbody tr th {\n",
       "        vertical-align: top;\n",
       "    }\n",
       "\n",
       "    .dataframe thead th {\n",
       "        text-align: right;\n",
       "    }\n",
       "</style>\n",
       "<table border=\"1\" class=\"dataframe\">\n",
       "  <thead>\n",
       "    <tr style=\"text-align: right;\">\n",
       "      <th></th>\n",
       "      <th>Date</th>\n",
       "      <th>Day</th>\n",
       "      <th>SKU</th>\n",
       "      <th>City</th>\n",
       "      <th>Volume</th>\n",
       "      <th>BU</th>\n",
       "      <th>Brand</th>\n",
       "      <th>Model</th>\n",
       "      <th>Avg Price</th>\n",
       "      <th>Total Sales Value</th>\n",
       "      <th>Discount Rate (%)</th>\n",
       "      <th>Discount Amount</th>\n",
       "      <th>Net Sales Value</th>\n",
       "    </tr>\n",
       "  </thead>\n",
       "  <tbody>\n",
       "    <tr>\n",
       "      <th>0</th>\n",
       "      <td>01-04-2021</td>\n",
       "      <td>Thursday</td>\n",
       "      <td>M01</td>\n",
       "      <td>C</td>\n",
       "      <td>15</td>\n",
       "      <td>Mobiles</td>\n",
       "      <td>RealU</td>\n",
       "      <td>RU-10</td>\n",
       "      <td>12100</td>\n",
       "      <td>181500</td>\n",
       "      <td>11.654820</td>\n",
       "      <td>21153.498820</td>\n",
       "      <td>160346.501180</td>\n",
       "    </tr>\n",
       "    <tr>\n",
       "      <th>1</th>\n",
       "      <td>01-04-2021</td>\n",
       "      <td>Thursday</td>\n",
       "      <td>M02</td>\n",
       "      <td>C</td>\n",
       "      <td>10</td>\n",
       "      <td>Mobiles</td>\n",
       "      <td>RealU</td>\n",
       "      <td>RU-9 Plus</td>\n",
       "      <td>10100</td>\n",
       "      <td>101000</td>\n",
       "      <td>11.560498</td>\n",
       "      <td>11676.102961</td>\n",
       "      <td>89323.897039</td>\n",
       "    </tr>\n",
       "    <tr>\n",
       "      <th>2</th>\n",
       "      <td>01-04-2021</td>\n",
       "      <td>Thursday</td>\n",
       "      <td>M03</td>\n",
       "      <td>C</td>\n",
       "      <td>7</td>\n",
       "      <td>Mobiles</td>\n",
       "      <td>YouM</td>\n",
       "      <td>YM-99</td>\n",
       "      <td>16100</td>\n",
       "      <td>112700</td>\n",
       "      <td>9.456886</td>\n",
       "      <td>10657.910157</td>\n",
       "      <td>102042.089843</td>\n",
       "    </tr>\n",
       "    <tr>\n",
       "      <th>3</th>\n",
       "      <td>01-04-2021</td>\n",
       "      <td>Thursday</td>\n",
       "      <td>M04</td>\n",
       "      <td>C</td>\n",
       "      <td>6</td>\n",
       "      <td>Mobiles</td>\n",
       "      <td>YouM</td>\n",
       "      <td>YM-99 Plus</td>\n",
       "      <td>20100</td>\n",
       "      <td>120600</td>\n",
       "      <td>6.935385</td>\n",
       "      <td>8364.074702</td>\n",
       "      <td>112235.925298</td>\n",
       "    </tr>\n",
       "    <tr>\n",
       "      <th>4</th>\n",
       "      <td>01-04-2021</td>\n",
       "      <td>Thursday</td>\n",
       "      <td>M05</td>\n",
       "      <td>C</td>\n",
       "      <td>3</td>\n",
       "      <td>Mobiles</td>\n",
       "      <td>YouM</td>\n",
       "      <td>YM-98</td>\n",
       "      <td>8100</td>\n",
       "      <td>24300</td>\n",
       "      <td>17.995663</td>\n",
       "      <td>4372.946230</td>\n",
       "      <td>19927.053770</td>\n",
       "    </tr>\n",
       "  </tbody>\n",
       "</table>\n",
       "</div>"
      ],
      "text/plain": [
       "         Date       Day  SKU City  Volume       BU  Brand       Model  \\\n",
       "0  01-04-2021  Thursday  M01    C      15  Mobiles  RealU       RU-10   \n",
       "1  01-04-2021  Thursday  M02    C      10  Mobiles  RealU   RU-9 Plus   \n",
       "2  01-04-2021  Thursday  M03    C       7  Mobiles   YouM       YM-99   \n",
       "3  01-04-2021  Thursday  M04    C       6  Mobiles   YouM  YM-99 Plus   \n",
       "4  01-04-2021  Thursday  M05    C       3  Mobiles   YouM      YM-98    \n",
       "\n",
       "   Avg Price  Total Sales Value  Discount Rate (%)  Discount Amount  \\\n",
       "0      12100             181500          11.654820     21153.498820   \n",
       "1      10100             101000          11.560498     11676.102961   \n",
       "2      16100             112700           9.456886     10657.910157   \n",
       "3      20100             120600           6.935385      8364.074702   \n",
       "4       8100              24300          17.995663      4372.946230   \n",
       "\n",
       "   Net Sales Value  \n",
       "0    160346.501180  \n",
       "1     89323.897039  \n",
       "2    102042.089843  \n",
       "3    112235.925298  \n",
       "4     19927.053770  "
      ]
     },
     "execution_count": 33,
     "metadata": {},
     "output_type": "execute_result"
    }
   ],
   "source": [
    "df.head() #before"
   ]
  },
  {
   "cell_type": "code",
   "execution_count": 34,
   "id": "261b52ad",
   "metadata": {},
   "outputs": [
    {
     "data": {
      "text/html": [
       "<div>\n",
       "<style scoped>\n",
       "    .dataframe tbody tr th:only-of-type {\n",
       "        vertical-align: middle;\n",
       "    }\n",
       "\n",
       "    .dataframe tbody tr th {\n",
       "        vertical-align: top;\n",
       "    }\n",
       "\n",
       "    .dataframe thead th {\n",
       "        text-align: right;\n",
       "    }\n",
       "</style>\n",
       "<table border=\"1\" class=\"dataframe\">\n",
       "  <thead>\n",
       "    <tr style=\"text-align: right;\">\n",
       "      <th></th>\n",
       "      <th>Date</th>\n",
       "      <th>Day</th>\n",
       "      <th>SKU</th>\n",
       "      <th>City</th>\n",
       "      <th>Volume</th>\n",
       "      <th>BU</th>\n",
       "      <th>Brand</th>\n",
       "      <th>Model</th>\n",
       "      <th>Avg Price</th>\n",
       "      <th>Total Sales Value</th>\n",
       "      <th>Discount Rate (%)</th>\n",
       "      <th>Discount Amount</th>\n",
       "      <th>Net Sales Value</th>\n",
       "    </tr>\n",
       "  </thead>\n",
       "  <tbody>\n",
       "    <tr>\n",
       "      <th>0</th>\n",
       "      <td>01-04-2021</td>\n",
       "      <td>Thursday</td>\n",
       "      <td>M01</td>\n",
       "      <td>C</td>\n",
       "      <td>2.347417</td>\n",
       "      <td>Mobiles</td>\n",
       "      <td>RealU</td>\n",
       "      <td>RU-10</td>\n",
       "      <td>0.091072</td>\n",
       "      <td>2.922469</td>\n",
       "      <td>-0.829365</td>\n",
       "      <td>3.948422</td>\n",
       "      <td>2.801638</td>\n",
       "    </tr>\n",
       "    <tr>\n",
       "      <th>1</th>\n",
       "      <td>01-04-2021</td>\n",
       "      <td>Thursday</td>\n",
       "      <td>M02</td>\n",
       "      <td>C</td>\n",
       "      <td>1.165831</td>\n",
       "      <td>Mobiles</td>\n",
       "      <td>RealU</td>\n",
       "      <td>RU-9 Plus</td>\n",
       "      <td>-0.019548</td>\n",
       "      <td>1.329516</td>\n",
       "      <td>-0.851714</td>\n",
       "      <td>1.846958</td>\n",
       "      <td>1.269613</td>\n",
       "    </tr>\n",
       "    <tr>\n",
       "      <th>2</th>\n",
       "      <td>01-04-2021</td>\n",
       "      <td>Thursday</td>\n",
       "      <td>M03</td>\n",
       "      <td>C</td>\n",
       "      <td>0.456880</td>\n",
       "      <td>Mobiles</td>\n",
       "      <td>YouM</td>\n",
       "      <td>YM-99</td>\n",
       "      <td>0.312312</td>\n",
       "      <td>1.561038</td>\n",
       "      <td>-1.350129</td>\n",
       "      <td>1.621190</td>\n",
       "      <td>1.543957</td>\n",
       "    </tr>\n",
       "    <tr>\n",
       "      <th>3</th>\n",
       "      <td>01-04-2021</td>\n",
       "      <td>Thursday</td>\n",
       "      <td>M04</td>\n",
       "      <td>C</td>\n",
       "      <td>0.220563</td>\n",
       "      <td>Mobiles</td>\n",
       "      <td>YouM</td>\n",
       "      <td>YM-99 Plus</td>\n",
       "      <td>0.533552</td>\n",
       "      <td>1.717365</td>\n",
       "      <td>-1.947555</td>\n",
       "      <td>1.112568</td>\n",
       "      <td>1.763847</td>\n",
       "    </tr>\n",
       "    <tr>\n",
       "      <th>4</th>\n",
       "      <td>01-04-2021</td>\n",
       "      <td>Thursday</td>\n",
       "      <td>M05</td>\n",
       "      <td>C</td>\n",
       "      <td>-0.488389</td>\n",
       "      <td>Mobiles</td>\n",
       "      <td>YouM</td>\n",
       "      <td>YM-98</td>\n",
       "      <td>-0.130168</td>\n",
       "      <td>-0.188242</td>\n",
       "      <td>0.672990</td>\n",
       "      <td>0.227598</td>\n",
       "      <td>-0.227342</td>\n",
       "    </tr>\n",
       "  </tbody>\n",
       "</table>\n",
       "</div>"
      ],
      "text/plain": [
       "         Date       Day  SKU City    Volume       BU  Brand       Model  \\\n",
       "0  01-04-2021  Thursday  M01    C  2.347417  Mobiles  RealU       RU-10   \n",
       "1  01-04-2021  Thursday  M02    C  1.165831  Mobiles  RealU   RU-9 Plus   \n",
       "2  01-04-2021  Thursday  M03    C  0.456880  Mobiles   YouM       YM-99   \n",
       "3  01-04-2021  Thursday  M04    C  0.220563  Mobiles   YouM  YM-99 Plus   \n",
       "4  01-04-2021  Thursday  M05    C -0.488389  Mobiles   YouM      YM-98    \n",
       "\n",
       "   Avg Price  Total Sales Value  Discount Rate (%)  Discount Amount  \\\n",
       "0   0.091072           2.922469          -0.829365         3.948422   \n",
       "1  -0.019548           1.329516          -0.851714         1.846958   \n",
       "2   0.312312           1.561038          -1.350129         1.621190   \n",
       "3   0.533552           1.717365          -1.947555         1.112568   \n",
       "4  -0.130168          -0.188242           0.672990         0.227598   \n",
       "\n",
       "   Net Sales Value  \n",
       "0         2.801638  \n",
       "1         1.269613  \n",
       "2         1.543957  \n",
       "3         1.763847  \n",
       "4        -0.227342  "
      ]
     },
     "execution_count": 34,
     "metadata": {},
     "output_type": "execute_result"
    }
   ],
   "source": [
    "df2.head() #after"
   ]
  },
  {
   "cell_type": "code",
   "execution_count": 35,
   "id": "66cf0f02",
   "metadata": {},
   "outputs": [
    {
     "data": {
      "text/html": [
       "<div>\n",
       "<style scoped>\n",
       "    .dataframe tbody tr th:only-of-type {\n",
       "        vertical-align: middle;\n",
       "    }\n",
       "\n",
       "    .dataframe tbody tr th {\n",
       "        vertical-align: top;\n",
       "    }\n",
       "\n",
       "    .dataframe thead th {\n",
       "        text-align: right;\n",
       "    }\n",
       "</style>\n",
       "<table border=\"1\" class=\"dataframe\">\n",
       "  <thead>\n",
       "    <tr style=\"text-align: right;\">\n",
       "      <th></th>\n",
       "      <th>Volume</th>\n",
       "      <th>Avg Price</th>\n",
       "      <th>Total Sales Value</th>\n",
       "      <th>Discount Rate (%)</th>\n",
       "      <th>Discount Amount</th>\n",
       "      <th>Net Sales Value</th>\n",
       "    </tr>\n",
       "  </thead>\n",
       "  <tbody>\n",
       "    <tr>\n",
       "      <th>count</th>\n",
       "      <td>4.500000e+02</td>\n",
       "      <td>4.500000e+02</td>\n",
       "      <td>4.500000e+02</td>\n",
       "      <td>4.500000e+02</td>\n",
       "      <td>4.500000e+02</td>\n",
       "      <td>4.500000e+02</td>\n",
       "    </tr>\n",
       "    <tr>\n",
       "      <th>mean</th>\n",
       "      <td>4.934325e-17</td>\n",
       "      <td>3.947460e-17</td>\n",
       "      <td>1.184238e-17</td>\n",
       "      <td>-3.552714e-17</td>\n",
       "      <td>-5.921189e-17</td>\n",
       "      <td>3.947460e-18</td>\n",
       "    </tr>\n",
       "    <tr>\n",
       "      <th>std</th>\n",
       "      <td>1.000000e+00</td>\n",
       "      <td>1.000000e+00</td>\n",
       "      <td>1.000000e+00</td>\n",
       "      <td>1.000000e+00</td>\n",
       "      <td>1.000000e+00</td>\n",
       "      <td>1.000000e+00</td>\n",
       "    </tr>\n",
       "    <tr>\n",
       "      <th>min</th>\n",
       "      <td>-9.610229e-01</td>\n",
       "      <td>-5.621398e-01</td>\n",
       "      <td>-6.611811e-01</td>\n",
       "      <td>-2.404259e+00</td>\n",
       "      <td>-7.266945e-01</td>\n",
       "      <td>-6.501345e-01</td>\n",
       "    </tr>\n",
       "    <tr>\n",
       "      <th>25%</th>\n",
       "      <td>-4.883887e-01</td>\n",
       "      <td>-5.524605e-01</td>\n",
       "      <td>-6.156681e-01</td>\n",
       "      <td>-2.819928e-01</td>\n",
       "      <td>-6.399340e-01</td>\n",
       "      <td>-6.096839e-01</td>\n",
       "    </tr>\n",
       "    <tr>\n",
       "      <th>50%</th>\n",
       "      <td>-2.520716e-01</td>\n",
       "      <td>-4.979801e-01</td>\n",
       "      <td>-5.563034e-01</td>\n",
       "      <td>3.370428e-01</td>\n",
       "      <td>-5.227531e-01</td>\n",
       "      <td>-5.562833e-01</td>\n",
       "    </tr>\n",
       "    <tr>\n",
       "      <th>75%</th>\n",
       "      <td>2.205626e-01</td>\n",
       "      <td>-1.954841e-02</td>\n",
       "      <td>3.836378e-01</td>\n",
       "      <td>7.011977e-01</td>\n",
       "      <td>4.368156e-01</td>\n",
       "      <td>3.749370e-01</td>\n",
       "    </tr>\n",
       "    <tr>\n",
       "      <th>max</th>\n",
       "      <td>6.128490e+00</td>\n",
       "      <td>2.745953e+00</td>\n",
       "      <td>3.217313e+00</td>\n",
       "      <td>1.146084e+00</td>\n",
       "      <td>4.964968e+00</td>\n",
       "      <td>3.214958e+00</td>\n",
       "    </tr>\n",
       "  </tbody>\n",
       "</table>\n",
       "</div>"
      ],
      "text/plain": [
       "             Volume     Avg Price  Total Sales Value  Discount Rate (%)  \\\n",
       "count  4.500000e+02  4.500000e+02       4.500000e+02       4.500000e+02   \n",
       "mean   4.934325e-17  3.947460e-17       1.184238e-17      -3.552714e-17   \n",
       "std    1.000000e+00  1.000000e+00       1.000000e+00       1.000000e+00   \n",
       "min   -9.610229e-01 -5.621398e-01      -6.611811e-01      -2.404259e+00   \n",
       "25%   -4.883887e-01 -5.524605e-01      -6.156681e-01      -2.819928e-01   \n",
       "50%   -2.520716e-01 -4.979801e-01      -5.563034e-01       3.370428e-01   \n",
       "75%    2.205626e-01 -1.954841e-02       3.836378e-01       7.011977e-01   \n",
       "max    6.128490e+00  2.745953e+00       3.217313e+00       1.146084e+00   \n",
       "\n",
       "       Discount Amount  Net Sales Value  \n",
       "count     4.500000e+02     4.500000e+02  \n",
       "mean     -5.921189e-17     3.947460e-18  \n",
       "std       1.000000e+00     1.000000e+00  \n",
       "min      -7.266945e-01    -6.501345e-01  \n",
       "25%      -6.399340e-01    -6.096839e-01  \n",
       "50%      -5.227531e-01    -5.562833e-01  \n",
       "75%       4.368156e-01     3.749370e-01  \n",
       "max       4.964968e+00     3.214958e+00  "
      ]
     },
     "execution_count": 35,
     "metadata": {},
     "output_type": "execute_result"
    }
   ],
   "source": [
    "df2.describe()"
   ]
  },
  {
   "cell_type": "markdown",
   "id": "249567cb",
   "metadata": {},
   "source": [
    "If we observe the before and after standardization we can see tht the values usually lies between -1 to 1\n",
    "\n",
    "The mean and the std deviation is 0 and 1"
   ]
  },
  {
   "cell_type": "markdown",
   "id": "4fe22417",
   "metadata": {},
   "source": [
    "## Conversion of Categorical Data into Dummy Variables"
   ]
  },
  {
   "cell_type": "code",
   "execution_count": 36,
   "id": "3370df6a",
   "metadata": {},
   "outputs": [],
   "source": [
    "# In one hot encoding we convert the categorical value to numerical value as 0,1 "
   ]
  },
  {
   "cell_type": "code",
   "execution_count": 37,
   "id": "e765aaba",
   "metadata": {},
   "outputs": [
    {
     "data": {
      "text/html": [
       "<div>\n",
       "<style scoped>\n",
       "    .dataframe tbody tr th:only-of-type {\n",
       "        vertical-align: middle;\n",
       "    }\n",
       "\n",
       "    .dataframe tbody tr th {\n",
       "        vertical-align: top;\n",
       "    }\n",
       "\n",
       "    .dataframe thead th {\n",
       "        text-align: right;\n",
       "    }\n",
       "</style>\n",
       "<table border=\"1\" class=\"dataframe\">\n",
       "  <thead>\n",
       "    <tr style=\"text-align: right;\">\n",
       "      <th></th>\n",
       "      <th>Date</th>\n",
       "      <th>Volume</th>\n",
       "      <th>Avg Price</th>\n",
       "      <th>Total Sales Value</th>\n",
       "      <th>Discount Rate (%)</th>\n",
       "      <th>Discount Amount</th>\n",
       "      <th>Net Sales Value</th>\n",
       "      <th>Day_Friday</th>\n",
       "      <th>Day_Monday</th>\n",
       "      <th>Day_Saturday</th>\n",
       "      <th>...</th>\n",
       "      <th>Model_Vedic Cream</th>\n",
       "      <th>Model_Vedic Oil</th>\n",
       "      <th>Model_Vedic Shampoo</th>\n",
       "      <th>Model_W-Casuals</th>\n",
       "      <th>Model_W-Inners</th>\n",
       "      <th>Model_W-Lounge</th>\n",
       "      <th>Model_W-Western</th>\n",
       "      <th>Model_YM-98</th>\n",
       "      <th>Model_YM-99</th>\n",
       "      <th>Model_YM-99 Plus</th>\n",
       "    </tr>\n",
       "  </thead>\n",
       "  <tbody>\n",
       "    <tr>\n",
       "      <th>0</th>\n",
       "      <td>01-04-2021</td>\n",
       "      <td>2.347417</td>\n",
       "      <td>0.091072</td>\n",
       "      <td>2.922469</td>\n",
       "      <td>-0.829365</td>\n",
       "      <td>3.948422</td>\n",
       "      <td>2.801638</td>\n",
       "      <td>0</td>\n",
       "      <td>0</td>\n",
       "      <td>0</td>\n",
       "      <td>...</td>\n",
       "      <td>0</td>\n",
       "      <td>0</td>\n",
       "      <td>0</td>\n",
       "      <td>0</td>\n",
       "      <td>0</td>\n",
       "      <td>0</td>\n",
       "      <td>0</td>\n",
       "      <td>0</td>\n",
       "      <td>0</td>\n",
       "      <td>0</td>\n",
       "    </tr>\n",
       "    <tr>\n",
       "      <th>1</th>\n",
       "      <td>01-04-2021</td>\n",
       "      <td>1.165831</td>\n",
       "      <td>-0.019548</td>\n",
       "      <td>1.329516</td>\n",
       "      <td>-0.851714</td>\n",
       "      <td>1.846958</td>\n",
       "      <td>1.269613</td>\n",
       "      <td>0</td>\n",
       "      <td>0</td>\n",
       "      <td>0</td>\n",
       "      <td>...</td>\n",
       "      <td>0</td>\n",
       "      <td>0</td>\n",
       "      <td>0</td>\n",
       "      <td>0</td>\n",
       "      <td>0</td>\n",
       "      <td>0</td>\n",
       "      <td>0</td>\n",
       "      <td>0</td>\n",
       "      <td>0</td>\n",
       "      <td>0</td>\n",
       "    </tr>\n",
       "    <tr>\n",
       "      <th>2</th>\n",
       "      <td>01-04-2021</td>\n",
       "      <td>0.456880</td>\n",
       "      <td>0.312312</td>\n",
       "      <td>1.561038</td>\n",
       "      <td>-1.350129</td>\n",
       "      <td>1.621190</td>\n",
       "      <td>1.543957</td>\n",
       "      <td>0</td>\n",
       "      <td>0</td>\n",
       "      <td>0</td>\n",
       "      <td>...</td>\n",
       "      <td>0</td>\n",
       "      <td>0</td>\n",
       "      <td>0</td>\n",
       "      <td>0</td>\n",
       "      <td>0</td>\n",
       "      <td>0</td>\n",
       "      <td>0</td>\n",
       "      <td>0</td>\n",
       "      <td>1</td>\n",
       "      <td>0</td>\n",
       "    </tr>\n",
       "    <tr>\n",
       "      <th>3</th>\n",
       "      <td>01-04-2021</td>\n",
       "      <td>0.220563</td>\n",
       "      <td>0.533552</td>\n",
       "      <td>1.717365</td>\n",
       "      <td>-1.947555</td>\n",
       "      <td>1.112568</td>\n",
       "      <td>1.763847</td>\n",
       "      <td>0</td>\n",
       "      <td>0</td>\n",
       "      <td>0</td>\n",
       "      <td>...</td>\n",
       "      <td>0</td>\n",
       "      <td>0</td>\n",
       "      <td>0</td>\n",
       "      <td>0</td>\n",
       "      <td>0</td>\n",
       "      <td>0</td>\n",
       "      <td>0</td>\n",
       "      <td>0</td>\n",
       "      <td>0</td>\n",
       "      <td>1</td>\n",
       "    </tr>\n",
       "    <tr>\n",
       "      <th>4</th>\n",
       "      <td>01-04-2021</td>\n",
       "      <td>-0.488389</td>\n",
       "      <td>-0.130168</td>\n",
       "      <td>-0.188242</td>\n",
       "      <td>0.672990</td>\n",
       "      <td>0.227598</td>\n",
       "      <td>-0.227342</td>\n",
       "      <td>0</td>\n",
       "      <td>0</td>\n",
       "      <td>0</td>\n",
       "      <td>...</td>\n",
       "      <td>0</td>\n",
       "      <td>0</td>\n",
       "      <td>0</td>\n",
       "      <td>0</td>\n",
       "      <td>0</td>\n",
       "      <td>0</td>\n",
       "      <td>0</td>\n",
       "      <td>1</td>\n",
       "      <td>0</td>\n",
       "      <td>0</td>\n",
       "    </tr>\n",
       "  </tbody>\n",
       "</table>\n",
       "<p>5 rows × 87 columns</p>\n",
       "</div>"
      ],
      "text/plain": [
       "         Date    Volume  Avg Price  Total Sales Value  Discount Rate (%)  \\\n",
       "0  01-04-2021  2.347417   0.091072           2.922469          -0.829365   \n",
       "1  01-04-2021  1.165831  -0.019548           1.329516          -0.851714   \n",
       "2  01-04-2021  0.456880   0.312312           1.561038          -1.350129   \n",
       "3  01-04-2021  0.220563   0.533552           1.717365          -1.947555   \n",
       "4  01-04-2021 -0.488389  -0.130168          -0.188242           0.672990   \n",
       "\n",
       "   Discount Amount  Net Sales Value  Day_Friday  Day_Monday  Day_Saturday  \\\n",
       "0         3.948422         2.801638           0           0             0   \n",
       "1         1.846958         1.269613           0           0             0   \n",
       "2         1.621190         1.543957           0           0             0   \n",
       "3         1.112568         1.763847           0           0             0   \n",
       "4         0.227598        -0.227342           0           0             0   \n",
       "\n",
       "   ...  Model_Vedic Cream  Model_Vedic Oil  Model_Vedic Shampoo  \\\n",
       "0  ...                  0                0                    0   \n",
       "1  ...                  0                0                    0   \n",
       "2  ...                  0                0                    0   \n",
       "3  ...                  0                0                    0   \n",
       "4  ...                  0                0                    0   \n",
       "\n",
       "   Model_W-Casuals  Model_W-Inners  Model_W-Lounge  Model_W-Western  \\\n",
       "0                0               0               0                0   \n",
       "1                0               0               0                0   \n",
       "2                0               0               0                0   \n",
       "3                0               0               0                0   \n",
       "4                0               0               0                0   \n",
       "\n",
       "   Model_YM-98   Model_YM-99  Model_YM-99 Plus  \n",
       "0             0            0                 0  \n",
       "1             0            0                 0  \n",
       "2             0            1                 0  \n",
       "3             0            0                 1  \n",
       "4             1            0                 0  \n",
       "\n",
       "[5 rows x 87 columns]"
      ]
     },
     "execution_count": 37,
     "metadata": {},
     "output_type": "execute_result"
    }
   ],
   "source": [
    "# creating dummy variables for columns: Day, SKU, City, BU,\tBrand, Model\n",
    "df3 = df2.copy()\n",
    "df3 = pd.get_dummies(df3, columns=['Day', 'SKU', 'City', 'BU', 'Brand', 'Model'])\n",
    "df3.head()"
   ]
  },
  {
   "cell_type": "code",
   "execution_count": 38,
   "id": "d6d8aeaf",
   "metadata": {},
   "outputs": [
    {
     "data": {
      "text/html": [
       "<div>\n",
       "<style scoped>\n",
       "    .dataframe tbody tr th:only-of-type {\n",
       "        vertical-align: middle;\n",
       "    }\n",
       "\n",
       "    .dataframe tbody tr th {\n",
       "        vertical-align: top;\n",
       "    }\n",
       "\n",
       "    .dataframe thead th {\n",
       "        text-align: right;\n",
       "    }\n",
       "</style>\n",
       "<table border=\"1\" class=\"dataframe\">\n",
       "  <thead>\n",
       "    <tr style=\"text-align: right;\">\n",
       "      <th></th>\n",
       "      <th>Date</th>\n",
       "      <th>Volume</th>\n",
       "      <th>Avg Price</th>\n",
       "      <th>Total Sales Value</th>\n",
       "      <th>Discount Rate (%)</th>\n",
       "      <th>Discount Amount</th>\n",
       "      <th>Net Sales Value</th>\n",
       "      <th>Day_Friday</th>\n",
       "      <th>Day_Monday</th>\n",
       "      <th>Day_Saturday</th>\n",
       "      <th>...</th>\n",
       "      <th>Model_Vedic Cream</th>\n",
       "      <th>Model_Vedic Oil</th>\n",
       "      <th>Model_Vedic Shampoo</th>\n",
       "      <th>Model_W-Casuals</th>\n",
       "      <th>Model_W-Inners</th>\n",
       "      <th>Model_W-Lounge</th>\n",
       "      <th>Model_W-Western</th>\n",
       "      <th>Model_YM-98</th>\n",
       "      <th>Model_YM-99</th>\n",
       "      <th>Model_YM-99 Plus</th>\n",
       "    </tr>\n",
       "  </thead>\n",
       "  <tbody>\n",
       "    <tr>\n",
       "      <th>0</th>\n",
       "      <td>01-04-2021</td>\n",
       "      <td>2</td>\n",
       "      <td>0</td>\n",
       "      <td>2</td>\n",
       "      <td>0</td>\n",
       "      <td>3</td>\n",
       "      <td>2</td>\n",
       "      <td>0</td>\n",
       "      <td>0</td>\n",
       "      <td>0</td>\n",
       "      <td>...</td>\n",
       "      <td>0</td>\n",
       "      <td>0</td>\n",
       "      <td>0</td>\n",
       "      <td>0</td>\n",
       "      <td>0</td>\n",
       "      <td>0</td>\n",
       "      <td>0</td>\n",
       "      <td>0</td>\n",
       "      <td>0</td>\n",
       "      <td>0</td>\n",
       "    </tr>\n",
       "    <tr>\n",
       "      <th>1</th>\n",
       "      <td>01-04-2021</td>\n",
       "      <td>1</td>\n",
       "      <td>0</td>\n",
       "      <td>1</td>\n",
       "      <td>0</td>\n",
       "      <td>1</td>\n",
       "      <td>1</td>\n",
       "      <td>0</td>\n",
       "      <td>0</td>\n",
       "      <td>0</td>\n",
       "      <td>...</td>\n",
       "      <td>0</td>\n",
       "      <td>0</td>\n",
       "      <td>0</td>\n",
       "      <td>0</td>\n",
       "      <td>0</td>\n",
       "      <td>0</td>\n",
       "      <td>0</td>\n",
       "      <td>0</td>\n",
       "      <td>0</td>\n",
       "      <td>0</td>\n",
       "    </tr>\n",
       "    <tr>\n",
       "      <th>2</th>\n",
       "      <td>01-04-2021</td>\n",
       "      <td>0</td>\n",
       "      <td>0</td>\n",
       "      <td>1</td>\n",
       "      <td>-1</td>\n",
       "      <td>1</td>\n",
       "      <td>1</td>\n",
       "      <td>0</td>\n",
       "      <td>0</td>\n",
       "      <td>0</td>\n",
       "      <td>...</td>\n",
       "      <td>0</td>\n",
       "      <td>0</td>\n",
       "      <td>0</td>\n",
       "      <td>0</td>\n",
       "      <td>0</td>\n",
       "      <td>0</td>\n",
       "      <td>0</td>\n",
       "      <td>0</td>\n",
       "      <td>1</td>\n",
       "      <td>0</td>\n",
       "    </tr>\n",
       "    <tr>\n",
       "      <th>3</th>\n",
       "      <td>01-04-2021</td>\n",
       "      <td>0</td>\n",
       "      <td>0</td>\n",
       "      <td>1</td>\n",
       "      <td>-1</td>\n",
       "      <td>1</td>\n",
       "      <td>1</td>\n",
       "      <td>0</td>\n",
       "      <td>0</td>\n",
       "      <td>0</td>\n",
       "      <td>...</td>\n",
       "      <td>0</td>\n",
       "      <td>0</td>\n",
       "      <td>0</td>\n",
       "      <td>0</td>\n",
       "      <td>0</td>\n",
       "      <td>0</td>\n",
       "      <td>0</td>\n",
       "      <td>0</td>\n",
       "      <td>0</td>\n",
       "      <td>1</td>\n",
       "    </tr>\n",
       "    <tr>\n",
       "      <th>4</th>\n",
       "      <td>01-04-2021</td>\n",
       "      <td>0</td>\n",
       "      <td>0</td>\n",
       "      <td>0</td>\n",
       "      <td>0</td>\n",
       "      <td>0</td>\n",
       "      <td>0</td>\n",
       "      <td>0</td>\n",
       "      <td>0</td>\n",
       "      <td>0</td>\n",
       "      <td>...</td>\n",
       "      <td>0</td>\n",
       "      <td>0</td>\n",
       "      <td>0</td>\n",
       "      <td>0</td>\n",
       "      <td>0</td>\n",
       "      <td>0</td>\n",
       "      <td>0</td>\n",
       "      <td>1</td>\n",
       "      <td>0</td>\n",
       "      <td>0</td>\n",
       "    </tr>\n",
       "  </tbody>\n",
       "</table>\n",
       "<p>5 rows × 87 columns</p>\n",
       "</div>"
      ],
      "text/plain": [
       "         Date  Volume  Avg Price  Total Sales Value  Discount Rate (%)  \\\n",
       "0  01-04-2021       2          0                  2                  0   \n",
       "1  01-04-2021       1          0                  1                  0   \n",
       "2  01-04-2021       0          0                  1                 -1   \n",
       "3  01-04-2021       0          0                  1                 -1   \n",
       "4  01-04-2021       0          0                  0                  0   \n",
       "\n",
       "   Discount Amount  Net Sales Value  Day_Friday  Day_Monday  Day_Saturday  \\\n",
       "0                3                2           0           0             0   \n",
       "1                1                1           0           0             0   \n",
       "2                1                1           0           0             0   \n",
       "3                1                1           0           0             0   \n",
       "4                0                0           0           0             0   \n",
       "\n",
       "   ...  Model_Vedic Cream  Model_Vedic Oil  Model_Vedic Shampoo  \\\n",
       "0  ...                  0                0                    0   \n",
       "1  ...                  0                0                    0   \n",
       "2  ...                  0                0                    0   \n",
       "3  ...                  0                0                    0   \n",
       "4  ...                  0                0                    0   \n",
       "\n",
       "   Model_W-Casuals  Model_W-Inners  Model_W-Lounge  Model_W-Western  \\\n",
       "0                0               0               0                0   \n",
       "1                0               0               0                0   \n",
       "2                0               0               0                0   \n",
       "3                0               0               0                0   \n",
       "4                0               0               0                0   \n",
       "\n",
       "   Model_YM-98   Model_YM-99  Model_YM-99 Plus  \n",
       "0             0            0                 0  \n",
       "1             0            0                 0  \n",
       "2             0            1                 0  \n",
       "3             0            0                 1  \n",
       "4             1            0                 0  \n",
       "\n",
       "[5 rows x 87 columns]"
      ]
     },
     "execution_count": 38,
     "metadata": {},
     "output_type": "execute_result"
    }
   ],
   "source": [
    "#converting float values to 1,0\n",
    "\n",
    "float_columns = df3.select_dtypes(include='float64') #select the columns whose data type is float\n",
    "df3[float_columns.columns] = float_columns.astype(int)\n",
    "\n",
    "df3.head()"
   ]
  },
  {
   "cell_type": "markdown",
   "id": "9f08542b",
   "metadata": {},
   "source": [
    "Conclusion"
   ]
  },
  {
   "cell_type": "markdown",
   "id": "9bc948bf",
   "metadata": {},
   "source": [
    "Summarize the key findings from the descriptive analytics and data visualizations.\n",
    "\n",
    "The provided dataset has 6 numeric values which can be identified using df.info() of which\n",
    "Volume , Avg Price,Total Sales Value are int type\n",
    "Discount Rate (%),Discount Amount,Net Sales Value are float type\n",
    "\n",
    "Some of the insights that I gained from data visualization:-\n",
    "* The net sale on saturday is high compared to other days\n",
    "* net sale of mobiles is greater than FMCG and lifestyle\n",
    "* samsung has most net sale compared to other and vedic, gear has very less sale\n",
    "* The model s-20 has the highest sale "
   ]
  },
  {
   "cell_type": "markdown",
   "id": "e2eaa102",
   "metadata": {},
   "source": [
    "Reflect on the importance of data preprocessing steps like standardization and one-hot encoding in data analysis and machine learning.\n",
    "\n",
    " Data preprocessing steps such as standardization and one-hot encoding plays important role in data preparation for ML models . \n",
    " * Standardization ensures that features have consistent scales, making them easy to compare with other features\n",
    " * one-hot encoding transforms categorical data into numeric format, allowing algorithms to handle non-numeric features effectively.\n"
   ]
  }
 ],
 "metadata": {
  "kernelspec": {
   "display_name": "Python 3 (ipykernel)",
   "language": "python",
   "name": "python3"
  },
  "language_info": {
   "codemirror_mode": {
    "name": "ipython",
    "version": 3
   },
   "file_extension": ".py",
   "mimetype": "text/x-python",
   "name": "python",
   "nbconvert_exporter": "python",
   "pygments_lexer": "ipython3",
   "version": "3.11.5"
  }
 },
 "nbformat": 4,
 "nbformat_minor": 5
}
