{
 "cells": [
  {
   "cell_type": "markdown",
   "metadata": {
    "id": "ThIuHfx8iwZj"
   },
   "source": [
    "# Estimation And Confidence **Intervals**"
   ]
  },
  {
   "cell_type": "markdown",
   "metadata": {
    "id": "-cxPWANBiz9Z"
   },
   "source": [
    "### A. Build a 99% Confidence Interval Using Sample Standard Deviation:"
   ]
  },
  {
   "cell_type": "code",
   "execution_count": 1,
   "metadata": {
    "id": "xDWN8DEwgzZc"
   },
   "outputs": [],
   "source": [
    "import numpy as np\n",
    "from scipy import stats"
   ]
  },
  {
   "cell_type": "code",
   "execution_count": 2,
   "metadata": {
    "id": "p_FBuD0di_Fm"
   },
   "outputs": [],
   "source": [
    "# Sample data\n",
    "data = np.array([1.13, 1.55, 1.43, 0.92, 1.25, 1.36, 1.32, 0.85, 1.07, 1.48, 1.20, 1.33, 1.18, 1.22, 1.29])\n"
   ]
  },
  {
   "cell_type": "code",
   "execution_count": 3,
   "metadata": {
    "id": "sj8hWLs-jBjy"
   },
   "outputs": [
    {
     "data": {
      "text/plain": [
       "(1.2386666666666666, 0.18661427836285438)"
      ]
     },
     "execution_count": 3,
     "metadata": {},
     "output_type": "execute_result"
    }
   ],
   "source": [
    "# Calculating sample mean and standard deviation\n",
    "sample_mean = np.mean(data)\n",
    "sample_std = np.std(data)\n",
    "\n",
    "sample_mean , sample_std"
   ]
  },
  {
   "cell_type": "code",
   "execution_count": 4,
   "metadata": {
    "id": "7suaAZPsjETZ"
   },
   "outputs": [],
   "source": [
    "# Sample size\n",
    "n = len(data)\n",
    "\n",
    "# Degrees of freedom\n",
    "df = n - 1"
   ]
  },
  {
   "cell_type": "code",
   "execution_count": 5,
   "metadata": {
    "id": "aceqMYVJjIRL"
   },
   "outputs": [],
   "source": [
    "#t-score for 99% confidence level\n",
    "\n",
    "t_score = stats.t.ppf(0.995, df)"
   ]
  },
  {
   "cell_type": "code",
   "execution_count": 6,
   "metadata": {
    "id": "MzsUQX7ijKji"
   },
   "outputs": [],
   "source": [
    "# Margin of error for sample standard deviation\n",
    "margin_of_error_t = t_score * (sample_std / np.sqrt(n))\n"
   ]
  },
  {
   "cell_type": "code",
   "execution_count": 7,
   "metadata": {
    "id": "xAjuaWWhjOew"
   },
   "outputs": [],
   "source": [
    "#Confidence interval using sample standard deviation\n",
    "confidence_interval_t = (sample_mean - margin_of_error_t, sample_mean + margin_of_error_t)"
   ]
  },
  {
   "cell_type": "code",
   "execution_count": 8,
   "metadata": {
    "colab": {
     "base_uri": "https://localhost:8080/"
    },
    "id": "W_YDIjI3jPGx",
    "outputId": "4f8c81ff-f7c8-4397-cf78-eb43ed6f07e1"
   },
   "outputs": [
    {
     "name": "stdout",
     "output_type": "stream",
     "text": [
      "Confidence interval using sample standard deviation:\n",
      "(1.0952316686385626, 1.3821016646947706)\n"
     ]
    }
   ],
   "source": [
    "print(\"Confidence interval using sample standard deviation:\")\n",
    "print(confidence_interval_t)"
   ]
  },
  {
   "cell_type": "markdown",
   "metadata": {
    "id": "akkbNMeIjTK5"
   },
   "source": [
    "### B. Build a 99% Confidence Interval Using Known Population Standard Deviation:"
   ]
  },
  {
   "cell_type": "code",
   "execution_count": 9,
   "metadata": {
    "id": "oGdE7m14jSHB"
   },
   "outputs": [],
   "source": [
    "# Population standard deviation\n",
    "population_std = 0.2"
   ]
  },
  {
   "cell_type": "code",
   "execution_count": 10,
   "metadata": {
    "id": "SAPJbt0IjeNa"
   },
   "outputs": [],
   "source": [
    "# z-score for 99% confidence level\n",
    "z_score = stats.norm.ppf(0.995)"
   ]
  },
  {
   "cell_type": "code",
   "execution_count": 11,
   "metadata": {
    "id": "LHaOs-wEjgGB"
   },
   "outputs": [],
   "source": [
    "# Margin of error for population standard deviation\n",
    "margin_of_error_z = z_score * (population_std / np.sqrt(n))"
   ]
  },
  {
   "cell_type": "code",
   "execution_count": 12,
   "metadata": {
    "colab": {
     "base_uri": "https://localhost:8080/"
    },
    "id": "p0OW_qpDjh8C",
    "outputId": "393a6fad-f9a5-487b-83da-d6612f373abd"
   },
   "outputs": [
    {
     "name": "stdout",
     "output_type": "stream",
     "text": [
      "\n",
      "Confidence interval using known population standard deviation:\n",
      "(1.1056514133957607, 1.3716819199375725)\n"
     ]
    }
   ],
   "source": [
    "# Confidence interval using known population standard deviation\n",
    "\n",
    "confidence_interval_z = (sample_mean - margin_of_error_z, sample_mean + margin_of_error_z)\n",
    "\n",
    "print(\"\\nConfidence interval using known population standard deviation:\")\n",
    "print(confidence_interval_z)"
   ]
  }
 ],
 "metadata": {
  "colab": {
   "provenance": []
  },
  "kernelspec": {
   "display_name": "Python 3 (ipykernel)",
   "language": "python",
   "name": "python3"
  },
  "language_info": {
   "codemirror_mode": {
    "name": "ipython",
    "version": 3
   },
   "file_extension": ".py",
   "mimetype": "text/x-python",
   "name": "python",
   "nbconvert_exporter": "python",
   "pygments_lexer": "ipython3",
   "version": "3.11.5"
  }
 },
 "nbformat": 4,
 "nbformat_minor": 4
}
