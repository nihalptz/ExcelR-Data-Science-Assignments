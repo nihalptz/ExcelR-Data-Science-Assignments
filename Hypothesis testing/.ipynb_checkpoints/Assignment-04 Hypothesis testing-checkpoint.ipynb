{
 "cells": [
  {
   "cell_type": "markdown",
   "id": "226ba824-abf6-4254-8f91-02f86eab0087",
   "metadata": {},
   "source": [
    "Assignment-4 : HYPOTHESIS TESTING"
   ]
  },
  {
   "cell_type": "code",
   "execution_count": 1,
   "id": "880b85a9-aabd-4e99-901a-c27279342925",
   "metadata": {},
   "outputs": [],
   "source": [
    "import numpy as np \n",
    "from scipy.stats import t"
   ]
  },
  {
   "cell_type": "markdown",
   "id": "0c488efc-e0e6-4e7f-a78e-500608e196e9",
   "metadata": {},
   "source": [
    "step 1: state the Hypotheses statement\n",
    "Null Hypothesis(Ho): The mean weekly operating cost accrording to the theoretical model is accurate\n",
    "Alternative Hypothesis(H1):The mean weekly operating cost is higher than what the theoretical model predicts\n"
   ]
  },
  {
   "cell_type": "markdown",
   "id": "9d7eb49f-6c9a-4bb3-88bb-bf506fbe3606",
   "metadata": {},
   "source": [
    "step 2: calculate the Test statistic"
   ]
  },
  {
   "cell_type": "code",
   "execution_count": 2,
   "id": "c68d9e9b-290a-416f-affc-f59b458b8566",
   "metadata": {},
   "outputs": [
    {
     "data": {
      "text/plain": [
       "-38.0"
      ]
     },
     "execution_count": 2,
     "metadata": {},
     "output_type": "execute_result"
    }
   ],
   "source": [
    "sample_mean = 3050  # sample mean weekly cost (Rs. 3,050)\n",
    "theoretical_mean = 1000 + 5 * 600  # theoretical mean weekly cost according to the model\n",
    "standard_deviation = 5 * 25  # standard deviation\n",
    "sample_size = 25  # sample size\n",
    "\n",
    "# Calculate the test statistic (t)\n",
    "t_statistic = (sample_mean - theoretical_mean) / (standard_deviation / np.sqrt(sample_size))\n",
    "t_statistic"
   ]
  },
  {
   "cell_type": "markdown",
   "id": "c31acc34-e087-43ae-a16b-13b5cd00361e",
   "metadata": {},
   "source": [
    "Step 3: Determine the Critical Value"
   ]
  },
  {
   "cell_type": "code",
   "execution_count": 3,
   "id": "98800226-0226-4893-9102-bfef41159030",
   "metadata": {},
   "outputs": [
    {
     "data": {
      "text/plain": [
       "1.7108820799094275"
      ]
     },
     "execution_count": 3,
     "metadata": {},
     "output_type": "execute_result"
    }
   ],
   "source": [
    "alpha = 0.05  # significance level\n",
    "\n",
    "# Degrees of freedom (df) = sample_size - 1\n",
    "df = sample_size - 1\n",
    "\n",
    "# Calculate the critical value from the t-distribution\n",
    "critical_value = t.ppf(1 - alpha, df)\n",
    "critical_value"
   ]
  },
  {
   "cell_type": "markdown",
   "id": "308bf59b-d650-4121-aef1-a7524a6af436",
   "metadata": {},
   "source": [
    "Make a Decision\n",
    "Decision Rule: If t_statistic > critical_value, reject H0; otherwise, fail to reject H0."
   ]
  },
  {
   "cell_type": "code",
   "execution_count": 4,
   "id": "d75514e2-c9fc-409a-bff1-89419301177f",
   "metadata": {},
   "outputs": [
    {
     "name": "stdout",
     "output_type": "stream",
     "text": [
      "Fail to reject the null hypothesis: There is not enough evidence to support the claim that the weekly operating costs are higher than the model suggests.\n"
     ]
    }
   ],
   "source": [
    "if t_statistic > critical_value:\n",
    "    print(\"Reject the null hypothesis: There is strong evidence to support the claim that the weekly operating costs are higher than the model suggests.\")\n",
    "else:\n",
    "    print(\"Fail to reject the null hypothesis: There is not enough evidence to support the claim that the weekly operating costs are higher than the model suggests.\")\n"
   ]
  },
  {
   "cell_type": "markdown",
   "id": "dd00aa0b-efb8-4a35-a6ca-f7e4ac76e09c",
   "metadata": {},
   "source": [
    "step 5:Conclusion\n",
    "Based on the critical value we fail to reject the null hypothesis.There is not enough evidence to support the claim that the weekly operating costs are higher than the model suggests.\n"
   ]
  },
  {
   "cell_type": "markdown",
   "id": "7f0b94bf-e094-4436-a2ba-91a0ed45e095",
   "metadata": {},
   "source": [
    "CHI-SQUARE TEST"
   ]
  },
  {
   "cell_type": "code",
   "execution_count": 5,
   "id": "b4a4d4e5-f1b8-4f94-b4ef-bc1e1d9d5cc0",
   "metadata": {},
   "outputs": [],
   "source": [
    "import numpy as np\n",
    "from scipy.stats import chi2_contingency"
   ]
  },
  {
   "cell_type": "markdown",
   "id": "c79f9b70-dd3b-4870-80f6-fd7b2dc7ae1a",
   "metadata": {},
   "source": [
    "Step 1: State the Hypotheses\n",
    " Null Hypothesis (H0): There is no association between the type of smart home device and customer satisfaction level.\n",
    " Alternative Hypothesis (H1): There is an association between the type of smart home device and customer satisfaction level"
   ]
  },
  {
   "cell_type": "markdown",
   "id": "184e5c7f-3321-40e1-83a7-4e013ce270a4",
   "metadata": {},
   "source": [
    "Step 2: Compute the Chi-Square Statistic"
   ]
  },
  {
   "cell_type": "code",
   "execution_count": 6,
   "id": "2abe98fc-81ad-41b6-b900-b37f867dca1f",
   "metadata": {},
   "outputs": [
    {
     "data": {
      "text/plain": [
       "array([[ 50,  70],\n",
       "       [ 80, 100],\n",
       "       [ 60,  90],\n",
       "       [ 30,  50],\n",
       "       [ 20,  50]])"
      ]
     },
     "execution_count": 6,
     "metadata": {},
     "output_type": "execute_result"
    }
   ],
   "source": [
    "observed = np.array([[50, 70],\n",
    "                     [80, 100],\n",
    "                     [60, 90],\n",
    "                     [30, 50],\n",
    "                     [20, 50]])\n",
    "observed"
   ]
  },
  {
   "cell_type": "markdown",
   "id": "51ae3828-4d78-4d83-9487-4d9783a3a65f",
   "metadata": {},
   "source": [
    "Step 3: Determine the Critical Value"
   ]
  },
  {
   "cell_type": "code",
   "execution_count": 7,
   "id": "4e124069-b8dd-42a2-a002-be4d9d7f136d",
   "metadata": {},
   "outputs": [
    {
     "data": {
      "text/plain": [
       "(0.22784371130697179, 4)"
      ]
     },
     "execution_count": 7,
     "metadata": {},
     "output_type": "execute_result"
    }
   ],
   "source": [
    "# Calculate the degrees of freedom\n",
    "# Degrees of freedom = (number of rows - 1) * (number of columns - 1)\n",
    "degrees_of_freedom = (observed.shape[0] - 1) * (observed.shape[1] - 1)\n",
    "\n",
    "# Set the significance level\n",
    "alpha = 0.05\n",
    "\n",
    "# Find the critical value from the chi-square distribution table\n",
    "critical_value = chi2_contingency(observed)[1]\n",
    "critical_value,degrees_of_freedom"
   ]
  },
  {
   "cell_type": "markdown",
   "id": "0f2f3e5b-0009-4aff-8148-49c90f0fd110",
   "metadata": {},
   "source": [
    "Step 4: Make a Decision"
   ]
  },
  {
   "cell_type": "code",
   "execution_count": 8,
   "id": "8d6fa877-9872-422b-8e03-1336fe56f917",
   "metadata": {},
   "outputs": [
    {
     "name": "stdout",
     "output_type": "stream",
     "text": [
      "Chi-Square Statistic: 5.638227513227513\n",
      "P-value: 0.22784371130697179\n",
      "Reject the null hypothesis: There is a significant association between the type of smart home device and customer satisfaction level.\n"
     ]
    }
   ],
   "source": [
    "# Perform the chi-square test\n",
    "chi2_stat, p_val, _, _ = chi2_contingency(observed)\n",
    "\n",
    "print(f\"Chi-Square Statistic: {chi2_stat}\")\n",
    "print(f\"P-value: {p_val}\")\n",
    "\n",
    "# Compare the Chi-Square statistic with the critical value\n",
    "if chi2_stat > critical_value:\n",
    "    print(\"Reject the null hypothesis: There is a significant association between the type of smart home device and customer satisfaction level.\")\n",
    "else:\n",
    "    print(\"Fail to reject the null hypothesis: There is no significant association between the type of smart home device and customer satisfaction level.\")\n",
    "\n",
    "\n"
   ]
  }
 ],
 "metadata": {
  "kernelspec": {
   "display_name": "Python 3 (ipykernel)",
   "language": "python",
   "name": "python3"
  },
  "language_info": {
   "codemirror_mode": {
    "name": "ipython",
    "version": 3
   },
   "file_extension": ".py",
   "mimetype": "text/x-python",
   "name": "python",
   "nbconvert_exporter": "python",
   "pygments_lexer": "ipython3",
   "version": "3.11.5"
  }
 },
 "nbformat": 4,
 "nbformat_minor": 5
}
